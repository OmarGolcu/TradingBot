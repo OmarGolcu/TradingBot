{
 "cells": [
  {
   "cell_type": "code",
   "execution_count": 1,
   "metadata": {},
   "outputs": [],
   "source": [
    "import config\n",
    "import json, csv, pprint, time, xlsxwriter\n",
    "import numpy as np\n",
    "import pandas as pd\n",
    "\n",
    "from datetime import datetime\n",
    "from binance.client import Client\n",
    "from talib import RSI, PLUS_DI, DX, CCI, ADX\n",
    "from binance.websockets import BinanceSocketManager\n",
    "from binance.enums import *\n",
    "import bb\n",
    "import talib\n"
   ]
  },
  {
   "cell_type": "code",
   "execution_count": 30,
   "metadata": {},
   "outputs": [],
   "source": [
    "client = Client(config.API_KEY, config.API_SECRET)\n",
    "\n",
    "\n",
    "\n",
    "klines = client.get_historical_klines(\"SUSHIUSDT\", Client.KLINE_INTERVAL_15MINUTE, \"1 day ago UTC\")\n",
    "\n",
    "data = pd.DataFrame(klines, columns=config.FIELD_HISTORICAL)"
   ]
  },
  {
   "cell_type": "code",
   "execution_count": 31,
   "metadata": {},
   "outputs": [],
   "source": [
    "bb.set_date(data)\n",
    "data = data[['Open','High','Low','Close','Volume']]\n",
    "data.to_csv('data_main.csv')\n",
    "\n"
   ]
  },
  {
   "cell_type": "code",
   "execution_count": 18,
   "metadata": {},
   "outputs": [
    {
     "data": {
      "text/plain": [
       "2021-02-21 08:45:00          NaN\n",
       "2021-02-21 09:00:00          NaN\n",
       "2021-02-21 09:15:00          NaN\n",
       "2021-02-21 09:30:00          NaN\n",
       "2021-02-21 09:45:00          NaN\n",
       "                         ...    \n",
       "2021-02-22 07:30:00    48.184141\n",
       "2021-02-22 07:45:00    51.283908\n",
       "2021-02-22 08:00:00    45.454737\n",
       "2021-02-22 08:15:00    45.062602\n",
       "2021-02-22 08:30:00    44.538472\n",
       "Length: 96, dtype: float64"
      ]
     },
     "execution_count": 18,
     "metadata": {},
     "output_type": "execute_result"
    }
   ],
   "source": [
    "def process_message(msg):\n",
    "        closes = np.empty(0)\n",
    "        rsis = np.empty(0)\n",
    "        if msg['e'] == 'error':\n",
    "            print(msg['e'])\n",
    "        else:\n",
    "            candle = msg['k']\n",
    "            is_closed = candle['x']\n",
    "            close = candle['c']\n",
    "\n",
    "            if is_closed:\n",
    "                closes = np.append(closes, float(close)) \n",
    "                \n",
    "                if len(closes)>RSI_PERIOD:\n",
    "                    rsi = talib.RSI(closes,RSI_PERIOD)\n",
    "                    rsi_last = rsi[-1]\n",
    "                    rsis = np.append(rsis, float(rsi_last)) \n",
    "        \n",
    "\n",
    "            \n",
    "        print('CLOSES :{}'.format(closes))\n",
    "        print('RSI :{}'.format(rsis))\n",
    "\n",
    "    client = Client(config.API_KEY, config.API_SECRET)\n",
    "    bm = BinanceSocketManager(client)\n",
    "    conn_key = bm.start_kline_socket('BTCUSDT', process_message, interval=KLINE_INTERVAL_15MINUTE)\n",
    "\n",
    "    bm.start()\n"
   ]
  },
  {
   "cell_type": "code",
   "execution_count": 19,
   "metadata": {},
   "outputs": [
    {
     "data": {
      "text/plain": [
       "2021-02-22 08:30:00          NaN\n",
       "2021-02-22 08:15:00          NaN\n",
       "2021-02-22 08:00:00          NaN\n",
       "2021-02-22 07:45:00          NaN\n",
       "2021-02-22 07:30:00          NaN\n",
       "                         ...    \n",
       "2021-02-21 09:45:00    48.382843\n",
       "2021-02-21 09:30:00    53.183580\n",
       "2021-02-21 09:15:00    57.638678\n",
       "2021-02-21 09:00:00    50.206672\n",
       "2021-02-21 08:45:00    53.428298\n",
       "Length: 96, dtype: float64"
      ]
     },
     "execution_count": 19,
     "metadata": {},
     "output_type": "execute_result"
    }
   ],
   "source": [
    "rsi2"
   ]
  },
  {
   "cell_type": "code",
   "execution_count": null,
   "metadata": {},
   "outputs": [],
   "source": []
  }
 ],
 "metadata": {
  "kernelspec": {
   "display_name": "Python 3",
   "language": "python",
   "name": "python3"
  },
  "language_info": {
   "codemirror_mode": {
    "name": "ipython",
    "version": 3
   },
   "file_extension": ".py",
   "mimetype": "text/x-python",
   "name": "python",
   "nbconvert_exporter": "python",
   "pygments_lexer": "ipython3",
   "version": "3.8.5"
  }
 },
 "nbformat": 4,
 "nbformat_minor": 4
}
