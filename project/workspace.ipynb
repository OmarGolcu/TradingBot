{
 "cells": [
  {
   "cell_type": "code",
   "execution_count": 64,
   "metadata": {},
   "outputs": [],
   "source": [
    "import config\n",
    "import json, csv, pprint, time, xlsxwriter\n",
    "import numpy as np\n",
    "import pandas as pd\n",
    "\n",
    "from datetime import datetime\n",
    "from binance.client import Client\n",
    "from talib import RSI, PLUS_DI, DX, CCI, ADX, MINUS_DI,ATR\n",
    "from binance.websockets import BinanceSocketManager\n",
    "from binance.enums import *\n",
    "import bb\n",
    "client = Client(config.API_KEY, config.API_SECRET)\n",
    "import talib\n",
    "import os"
   ]
  },
  {
   "cell_type": "code",
   "execution_count": 3,
   "metadata": {
    "tags": []
   },
   "outputs": [],
   "source": [
    "klines = client.get_historical_klines(\"BTCUSDT\", Client.KLINE_INTERVAL_15MINUTE, \"1 day ago UTC\")\n",
    "ohlc = bb.get_ohlc_his(klines)\n",
    "open = ohlc[0]\n",
    "high = ohlc[0]\n",
    "low = ohlc[0]\n",
    "close = ohlc[0]"
   ]
  },
  {
   "cell_type": "code",
   "execution_count": 5,
   "metadata": {},
   "outputs": [],
   "source": [
    "integer = talib.CDLMORNINGSTAR(open, high, low, close, penetration=0)\n",
    "print(integer)"
   ]
  },
  {
   "cell_type": "code",
   "execution_count": 7,
   "metadata": {},
   "outputs": [],
   "source": [
    "ADX = talib.ADX(high, low, close, timeperiod=14)\n",
    "DX = talib.DX(high,low,close,timeperiod=14)\n",
    "PDI = talib.PLUS_DI(high, low, close, timeperiod=14)"
   ]
  },
  {
   "cell_type": "code",
   "execution_count": 8,
   "metadata": {},
   "outputs": [
    {
     "name": "stdout",
     "output_type": "stream",
     "text": [
      "[        nan         nan         nan         nan         nan         nan\n",
      "         nan         nan         nan         nan         nan         nan\n",
      "         nan         nan 24.9266682  32.67967879 32.09790454 29.34930556\n",
      " 30.37741237 31.59620107  5.91994187  8.54710538 55.54569571 81.1460828\n",
      " 63.51240543 72.72414728 64.48857857 42.37945861 47.55614369 48.94681833\n",
      " 35.67192229 40.60472595 36.97715785 39.98147236 38.60225129 39.49205457\n",
      " 44.97796472 25.65175599 22.41092363 19.690638    9.63158229 12.64981934\n",
      " 15.65607254 15.57859489 11.3744178  17.76705349  5.99861351  2.89987913\n",
      "  8.32785558 10.19185041  8.24721878 11.70721651 14.40080841 11.49085253\n",
      " 21.1389004  35.78456166 29.74031463 37.22347678 35.19522101 40.27302553\n",
      " 36.97114042 31.46610394 37.88922653 35.5190564  45.94855196 57.64364578\n",
      " 50.6838834  54.84708007 59.90904043 53.7862373  58.22899733 45.32362702\n",
      " 37.89746053 23.2247321  26.59931098 23.60790386 14.05344637 19.34235587\n",
      " 20.44120717  7.5474244  12.79231762 19.19739093 27.02600763 26.0213043\n",
      " 17.84188118 19.14372356 22.62453362 28.70821429 27.22534935 25.19793567\n",
      " 17.04789235 24.98717983 24.3004432  30.01783578 42.89800439 49.56072284]\n",
      "----\n",
      "[        nan         nan         nan         nan         nan         nan\n",
      "         nan         nan         nan         nan         nan         nan\n",
      "         nan         nan 62.4633341  66.33983939 66.04895227 64.67465278\n",
      " 65.18870618 65.79810053 52.95997094 54.27355269 77.77284786 90.5730414\n",
      " 81.75620271 86.36207364 82.24428928 71.18972931 73.77807185 74.47340916\n",
      " 67.83596115 70.30236298 68.48857893 69.99073618 69.30112564 69.74602729\n",
      " 72.48898236 62.82587799 61.20546182 59.845319   54.81579114 56.32490967\n",
      " 57.82803627 57.78929745 55.6872089  58.88352675 52.99930675 51.44993957\n",
      " 54.16392779 55.0959252  54.12360939 55.85360826 57.20040421 55.74542626\n",
      " 60.5694502  67.89228083 64.87015731 68.61173839 67.59761051 70.13651277\n",
      " 68.48557021 65.73305197 68.94461326 67.7595282  72.97427598 78.82182289\n",
      " 75.3419417  77.42354004 79.95452021 76.89311865 79.11449867 72.66181351\n",
      " 68.94873027 61.61236605 63.29965549 61.80395193 57.02672319 59.67117793\n",
      " 60.22060358 53.7737122  56.39615881 59.59869547 63.51300382 63.01065215\n",
      " 58.92094059 59.57186178 61.31226681 64.35410714 63.61267468 62.59896783\n",
      " 58.52394618 62.49358992 62.1502216  65.00891789 71.44900219 74.78036142]\n"
     ]
    }
   ],
   "source": [
    "print(DX)\n",
    "print('----')\n",
    "print(PDI)"
   ]
  },
  {
   "cell_type": "code",
   "execution_count": 9,
   "metadata": {},
   "outputs": [],
   "source": [
    "def isSupport(df,i):\n",
    "    support = df['Low'][i] < df['Low'][i-1]  and df['Low'][i] < df['Low'][i+1] \\\n",
    "    and df['Low'][i+1] < df['Low'][i+2] and df['Low'][i-1] < df['Low'][i-2]\n",
    "\n",
    "    return support\n",
    "\n",
    "def isResistance(df,i):\n",
    "    resistance = df['High'][i] > df['High'][i-1]  and df['High'][i] > df['High'][i+1] \\\n",
    "    and df['High'][i+1] > df['High'][i+2] and df['High'][i-1] > df['High'][i-2] \n",
    "\n",
    "    return resistance\n",
    "\n",
    "\n",
    "def isSupportRSI(df,i):\n",
    "    support = df['RSI'][i] < df['RSI'][i-1]  and df['RSI'][i] < df['RSI'][i+1] \\\n",
    "    and df['RSI'][i+1] < df['RSI'][i+2] and df['RSI'][i-1] < df['RSI'][i-2]\n",
    "\n",
    "    return support\n",
    "\n",
    "def isResistanceRSI(df,i):\n",
    "    resistance = df['RSI'][i] > df['RSI'][i-1]  and df['RSI'][i] > df['RSI'][i+1] \\\n",
    "    and df['RSI'][i+1] > df['RSI'][i+2] and df['RSI'][i-1] > df['RSI'][i-2] \n",
    "\n",
    "    return resistance"
   ]
  },
  {
   "cell_type": "code",
   "execution_count": 10,
   "metadata": {},
   "outputs": [],
   "source": [
    "klines = client.get_historical_klines(\"SUSHIUSDT\", Client.KLINE_INTERVAL_15MINUTE, \"03 Feb, 2021\")"
   ]
  },
  {
   "cell_type": "code",
   "execution_count": 11,
   "metadata": {
    "tags": []
   },
   "outputs": [],
   "source": [
    "df = pd.DataFrame(klines, columns=config.FIELD_HISTORICAL)"
   ]
  },
  {
   "cell_type": "code",
   "execution_count": 12,
   "metadata": {},
   "outputs": [
    {
     "data": {
      "text/html": [
       "<div>\n",
       "<style scoped>\n",
       "    .dataframe tbody tr th:only-of-type {\n",
       "        vertical-align: middle;\n",
       "    }\n",
       "\n",
       "    .dataframe tbody tr th {\n",
       "        vertical-align: top;\n",
       "    }\n",
       "\n",
       "    .dataframe thead th {\n",
       "        text-align: right;\n",
       "    }\n",
       "</style>\n",
       "<table border=\"1\" class=\"dataframe\">\n",
       "  <thead>\n",
       "    <tr style=\"text-align: right;\">\n",
       "      <th></th>\n",
       "      <th>Opem Time</th>\n",
       "      <th>Open</th>\n",
       "      <th>High</th>\n",
       "      <th>Low</th>\n",
       "      <th>Close</th>\n",
       "      <th>Volume</th>\n",
       "      <th>Close Time</th>\n",
       "      <th>QA Volume</th>\n",
       "      <th>Number of Trades</th>\n",
       "      <th>TBBA Volume</th>\n",
       "      <th>TBQA Volume</th>\n",
       "      <th>Ignore</th>\n",
       "    </tr>\n",
       "  </thead>\n",
       "  <tbody>\n",
       "    <tr>\n",
       "      <th>0</th>\n",
       "      <td>1612310400000</td>\n",
       "      <td>12.64300000</td>\n",
       "      <td>12.82000000</td>\n",
       "      <td>12.60100000</td>\n",
       "      <td>12.77300000</td>\n",
       "      <td>99851.82800000</td>\n",
       "      <td>1612311299999</td>\n",
       "      <td>1267688.71760800</td>\n",
       "      <td>1735</td>\n",
       "      <td>44941.42000000</td>\n",
       "      <td>570472.16350300</td>\n",
       "      <td>0</td>\n",
       "    </tr>\n",
       "    <tr>\n",
       "      <th>1</th>\n",
       "      <td>1612311300000</td>\n",
       "      <td>12.76000000</td>\n",
       "      <td>12.81700000</td>\n",
       "      <td>12.68400000</td>\n",
       "      <td>12.73100000</td>\n",
       "      <td>56993.78700000</td>\n",
       "      <td>1612312199999</td>\n",
       "      <td>725939.65179800</td>\n",
       "      <td>1161</td>\n",
       "      <td>32914.77300000</td>\n",
       "      <td>419057.71636300</td>\n",
       "      <td>0</td>\n",
       "    </tr>\n",
       "    <tr>\n",
       "      <th>2</th>\n",
       "      <td>1612312200000</td>\n",
       "      <td>12.73100000</td>\n",
       "      <td>12.74800000</td>\n",
       "      <td>12.60300000</td>\n",
       "      <td>12.61400000</td>\n",
       "      <td>67620.61400000</td>\n",
       "      <td>1612313099999</td>\n",
       "      <td>856757.39279600</td>\n",
       "      <td>1417</td>\n",
       "      <td>37990.93500000</td>\n",
       "      <td>481249.67021700</td>\n",
       "      <td>0</td>\n",
       "    </tr>\n",
       "    <tr>\n",
       "      <th>3</th>\n",
       "      <td>1612313100000</td>\n",
       "      <td>12.61400000</td>\n",
       "      <td>12.67600000</td>\n",
       "      <td>12.52600000</td>\n",
       "      <td>12.55600000</td>\n",
       "      <td>87331.60100000</td>\n",
       "      <td>1612313999999</td>\n",
       "      <td>1099597.72124900</td>\n",
       "      <td>1569</td>\n",
       "      <td>46110.27300000</td>\n",
       "      <td>580630.28573700</td>\n",
       "      <td>0</td>\n",
       "    </tr>\n",
       "    <tr>\n",
       "      <th>4</th>\n",
       "      <td>1612314000000</td>\n",
       "      <td>12.54100000</td>\n",
       "      <td>12.67100000</td>\n",
       "      <td>12.45300000</td>\n",
       "      <td>12.63100000</td>\n",
       "      <td>82982.56300000</td>\n",
       "      <td>1612314899999</td>\n",
       "      <td>1039545.58916200</td>\n",
       "      <td>1592</td>\n",
       "      <td>33741.17700000</td>\n",
       "      <td>422867.84154900</td>\n",
       "      <td>0</td>\n",
       "    </tr>\n",
       "  </tbody>\n",
       "</table>\n",
       "</div>"
      ],
      "text/plain": [
       "       Opem Time         Open         High          Low        Close  \\\n",
       "0  1612310400000  12.64300000  12.82000000  12.60100000  12.77300000   \n",
       "1  1612311300000  12.76000000  12.81700000  12.68400000  12.73100000   \n",
       "2  1612312200000  12.73100000  12.74800000  12.60300000  12.61400000   \n",
       "3  1612313100000  12.61400000  12.67600000  12.52600000  12.55600000   \n",
       "4  1612314000000  12.54100000  12.67100000  12.45300000  12.63100000   \n",
       "\n",
       "           Volume     Close Time         QA Volume  Number of Trades  \\\n",
       "0  99851.82800000  1612311299999  1267688.71760800              1735   \n",
       "1  56993.78700000  1612312199999   725939.65179800              1161   \n",
       "2  67620.61400000  1612313099999   856757.39279600              1417   \n",
       "3  87331.60100000  1612313999999  1099597.72124900              1569   \n",
       "4  82982.56300000  1612314899999  1039545.58916200              1592   \n",
       "\n",
       "      TBBA Volume      TBQA Volume Ignore  \n",
       "0  44941.42000000  570472.16350300      0  \n",
       "1  32914.77300000  419057.71636300      0  \n",
       "2  37990.93500000  481249.67021700      0  \n",
       "3  46110.27300000  580630.28573700      0  \n",
       "4  33741.17700000  422867.84154900      0  "
      ]
     },
     "execution_count": 12,
     "metadata": {},
     "output_type": "execute_result"
    }
   ],
   "source": [
    "df.head()"
   ]
  },
  {
   "cell_type": "code",
   "execution_count": 13,
   "metadata": {},
   "outputs": [],
   "source": [
    "dohlc = df[['Opem Time','Open','High','Low','Close','Volume']].copy().set_index('Opem Time')"
   ]
  },
  {
   "cell_type": "code",
   "execution_count": 14,
   "metadata": {},
   "outputs": [],
   "source": [
    "from datetime import datetime\n",
    "dohlc.index.name = 'Date'\n",
    "dohlc.head()\n",
    "dates = dohlc.index\n",
    "readable_dates = []\n",
    "for date in dates : \n",
    "    ts = date/1000\n",
    "    rd =  datetime.utcfromtimestamp(ts)\n",
    "    readable_dates.append(rd)\n",
    "readable_dates\n",
    "\n",
    "dohlc.set_index(pd.DatetimeIndex(readable_dates), inplace=True)"
   ]
  },
  {
   "cell_type": "code",
   "execution_count": 15,
   "metadata": {},
   "outputs": [],
   "source": [
    "rsi = talib.RSI(dohlc['Close'], 14)"
   ]
  },
  {
   "cell_type": "code",
   "execution_count": 16,
   "metadata": {},
   "outputs": [],
   "source": [
    "ohlc_rsi = dohlc\n",
    "ohlc_rsi['RSI'] = rsi"
   ]
  },
  {
   "cell_type": "code",
   "execution_count": 17,
   "metadata": {},
   "outputs": [],
   "source": [
    "ohlc_rsi.dropna(inplace=True)"
   ]
  },
  {
   "cell_type": "code",
   "execution_count": 18,
   "metadata": {},
   "outputs": [
    {
     "data": {
      "text/html": [
       "<div>\n",
       "<style scoped>\n",
       "    .dataframe tbody tr th:only-of-type {\n",
       "        vertical-align: middle;\n",
       "    }\n",
       "\n",
       "    .dataframe tbody tr th {\n",
       "        vertical-align: top;\n",
       "    }\n",
       "\n",
       "    .dataframe thead th {\n",
       "        text-align: right;\n",
       "    }\n",
       "</style>\n",
       "<table border=\"1\" class=\"dataframe\">\n",
       "  <thead>\n",
       "    <tr style=\"text-align: right;\">\n",
       "      <th></th>\n",
       "      <th>Open</th>\n",
       "      <th>High</th>\n",
       "      <th>Low</th>\n",
       "      <th>Close</th>\n",
       "      <th>Volume</th>\n",
       "      <th>RSI</th>\n",
       "    </tr>\n",
       "  </thead>\n",
       "  <tbody>\n",
       "    <tr>\n",
       "      <th>2021-02-03 03:30:00</th>\n",
       "      <td>12.81500000</td>\n",
       "      <td>12.88600000</td>\n",
       "      <td>12.53400000</td>\n",
       "      <td>12.71800000</td>\n",
       "      <td>173047.06900000</td>\n",
       "      <td>47.744053</td>\n",
       "    </tr>\n",
       "    <tr>\n",
       "      <th>2021-02-03 03:45:00</th>\n",
       "      <td>12.71900000</td>\n",
       "      <td>12.73100000</td>\n",
       "      <td>12.65100000</td>\n",
       "      <td>12.66600000</td>\n",
       "      <td>60173.90000000</td>\n",
       "      <td>45.647059</td>\n",
       "    </tr>\n",
       "    <tr>\n",
       "      <th>2021-02-03 04:00:00</th>\n",
       "      <td>12.66200000</td>\n",
       "      <td>12.78600000</td>\n",
       "      <td>12.65700000</td>\n",
       "      <td>12.78300000</td>\n",
       "      <td>75113.59500000</td>\n",
       "      <td>50.875184</td>\n",
       "    </tr>\n",
       "    <tr>\n",
       "      <th>2021-02-03 04:15:00</th>\n",
       "      <td>12.78500000</td>\n",
       "      <td>12.90400000</td>\n",
       "      <td>12.78000000</td>\n",
       "      <td>12.79600000</td>\n",
       "      <td>88620.23200000</td>\n",
       "      <td>51.434164</td>\n",
       "    </tr>\n",
       "    <tr>\n",
       "      <th>2021-02-03 04:30:00</th>\n",
       "      <td>12.79600000</td>\n",
       "      <td>12.87500000</td>\n",
       "      <td>12.76600000</td>\n",
       "      <td>12.82900000</td>\n",
       "      <td>48473.90700000</td>\n",
       "      <td>52.899299</td>\n",
       "    </tr>\n",
       "  </tbody>\n",
       "</table>\n",
       "</div>"
      ],
      "text/plain": [
       "                            Open         High          Low        Close  \\\n",
       "2021-02-03 03:30:00  12.81500000  12.88600000  12.53400000  12.71800000   \n",
       "2021-02-03 03:45:00  12.71900000  12.73100000  12.65100000  12.66600000   \n",
       "2021-02-03 04:00:00  12.66200000  12.78600000  12.65700000  12.78300000   \n",
       "2021-02-03 04:15:00  12.78500000  12.90400000  12.78000000  12.79600000   \n",
       "2021-02-03 04:30:00  12.79600000  12.87500000  12.76600000  12.82900000   \n",
       "\n",
       "                              Volume        RSI  \n",
       "2021-02-03 03:30:00  173047.06900000  47.744053  \n",
       "2021-02-03 03:45:00   60173.90000000  45.647059  \n",
       "2021-02-03 04:00:00   75113.59500000  50.875184  \n",
       "2021-02-03 04:15:00   88620.23200000  51.434164  \n",
       "2021-02-03 04:30:00   48473.90700000  52.899299  "
      ]
     },
     "execution_count": 18,
     "metadata": {},
     "output_type": "execute_result"
    }
   ],
   "source": [
    "ohlc_rsi.head()\n"
   ]
  },
  {
   "cell_type": "code",
   "execution_count": 19,
   "metadata": {},
   "outputs": [],
   "source": [
    "levels = []\n",
    "for i in range(2,ohlc_rsi.shape[0]-2):\n",
    "    if isSupportRSI(ohlc_rsi,i):\n",
    "        levels.append((i,ohlc_rsi['RSI'][i]))\n",
    "    elif isResistance(ohlc_rsi,i):\n",
    "        levels.append((i,ohlc_rsi['RSI'][i]))"
   ]
  },
  {
   "cell_type": "code",
   "execution_count": 20,
   "metadata": {},
   "outputs": [],
   "source": [
    "def isSupport(df,i):\n",
    "    support = df['Low'][i] < df['Low'][i-1]  and df['Low'][i] < df['Low'][i+1] \\\n",
    "    and df['Low'][i+1] < df['Low'][i+2] and df['Low'][i-1] < df['Low'][i-2]\n",
    "\n",
    "    return support\n",
    "\n",
    "def isResistance(df,i):\n",
    "    resistance = df['High'][i] > df['High'][i-1]  and df['High'][i] > df['High'][i+1] \\\n",
    "    and df['High'][i+1] > df['High'][i+2] and df['High'][i-1] > df['High'][i-2] \n",
    "\n",
    "    return resistance\n",
    "\n",
    "\n",
    "levels = []\n",
    "for i in range(2,df.shape[0]-2):\n",
    "    if isSupport(df,i):\n",
    "        levels.append((i,df['Low'][i]))\n",
    "    elif isResistance(df,i):\n",
    "        levels.append((i,df['High'][i]))"
   ]
  },
  {
   "cell_type": "code",
   "execution_count": 21,
   "metadata": {},
   "outputs": [
    {
     "data": {
      "text/html": [
       "<div>\n",
       "<style scoped>\n",
       "    .dataframe tbody tr th:only-of-type {\n",
       "        vertical-align: middle;\n",
       "    }\n",
       "\n",
       "    .dataframe tbody tr th {\n",
       "        vertical-align: top;\n",
       "    }\n",
       "\n",
       "    .dataframe thead th {\n",
       "        text-align: right;\n",
       "    }\n",
       "</style>\n",
       "<table border=\"1\" class=\"dataframe\">\n",
       "  <thead>\n",
       "    <tr style=\"text-align: right;\">\n",
       "      <th></th>\n",
       "      <th>Open</th>\n",
       "      <th>High</th>\n",
       "      <th>Low</th>\n",
       "      <th>Close</th>\n",
       "      <th>Volume</th>\n",
       "      <th>RSI</th>\n",
       "    </tr>\n",
       "  </thead>\n",
       "  <tbody>\n",
       "    <tr>\n",
       "      <th>2021-02-03 03:30:00</th>\n",
       "      <td>12.81500000</td>\n",
       "      <td>12.88600000</td>\n",
       "      <td>12.53400000</td>\n",
       "      <td>12.71800000</td>\n",
       "      <td>173047.06900000</td>\n",
       "      <td>47.744053</td>\n",
       "    </tr>\n",
       "    <tr>\n",
       "      <th>2021-02-03 03:45:00</th>\n",
       "      <td>12.71900000</td>\n",
       "      <td>12.73100000</td>\n",
       "      <td>12.65100000</td>\n",
       "      <td>12.66600000</td>\n",
       "      <td>60173.90000000</td>\n",
       "      <td>45.647059</td>\n",
       "    </tr>\n",
       "    <tr>\n",
       "      <th>2021-02-03 04:00:00</th>\n",
       "      <td>12.66200000</td>\n",
       "      <td>12.78600000</td>\n",
       "      <td>12.65700000</td>\n",
       "      <td>12.78300000</td>\n",
       "      <td>75113.59500000</td>\n",
       "      <td>50.875184</td>\n",
       "    </tr>\n",
       "    <tr>\n",
       "      <th>2021-02-03 04:15:00</th>\n",
       "      <td>12.78500000</td>\n",
       "      <td>12.90400000</td>\n",
       "      <td>12.78000000</td>\n",
       "      <td>12.79600000</td>\n",
       "      <td>88620.23200000</td>\n",
       "      <td>51.434164</td>\n",
       "    </tr>\n",
       "    <tr>\n",
       "      <th>2021-02-03 04:30:00</th>\n",
       "      <td>12.79600000</td>\n",
       "      <td>12.87500000</td>\n",
       "      <td>12.76600000</td>\n",
       "      <td>12.82900000</td>\n",
       "      <td>48473.90700000</td>\n",
       "      <td>52.899299</td>\n",
       "    </tr>\n",
       "  </tbody>\n",
       "</table>\n",
       "</div>"
      ],
      "text/plain": [
       "                            Open         High          Low        Close  \\\n",
       "2021-02-03 03:30:00  12.81500000  12.88600000  12.53400000  12.71800000   \n",
       "2021-02-03 03:45:00  12.71900000  12.73100000  12.65100000  12.66600000   \n",
       "2021-02-03 04:00:00  12.66200000  12.78600000  12.65700000  12.78300000   \n",
       "2021-02-03 04:15:00  12.78500000  12.90400000  12.78000000  12.79600000   \n",
       "2021-02-03 04:30:00  12.79600000  12.87500000  12.76600000  12.82900000   \n",
       "\n",
       "                              Volume        RSI  \n",
       "2021-02-03 03:30:00  173047.06900000  47.744053  \n",
       "2021-02-03 03:45:00   60173.90000000  45.647059  \n",
       "2021-02-03 04:00:00   75113.59500000  50.875184  \n",
       "2021-02-03 04:15:00   88620.23200000  51.434164  \n",
       "2021-02-03 04:30:00   48473.90700000  52.899299  "
      ]
     },
     "execution_count": 21,
     "metadata": {},
     "output_type": "execute_result"
    }
   ],
   "source": [
    "dohlc.head()"
   ]
  },
  {
   "cell_type": "code",
   "execution_count": 28,
   "metadata": {},
   "outputs": [
    {
     "ename": "NameError",
     "evalue": "name 'dohlc' is not defined",
     "output_type": "error",
     "traceback": [
      "\u001b[1;31m---------------------------------------------------------------------------\u001b[0m",
      "\u001b[1;31mNameError\u001b[0m                                 Traceback (most recent call last)",
      "\u001b[1;32m<ipython-input-28-b63606c44b48>\u001b[0m in \u001b[0;36m<module>\u001b[1;34m\u001b[0m\n\u001b[0;32m      1\u001b[0m \u001b[1;32mimport\u001b[0m \u001b[0mmatplotlib\u001b[0m\u001b[1;33m\u001b[0m\u001b[1;33m\u001b[0m\u001b[0m\n\u001b[0;32m      2\u001b[0m \u001b[1;32mimport\u001b[0m \u001b[0mmplfinance\u001b[0m \u001b[1;32mas\u001b[0m \u001b[0mmpf\u001b[0m\u001b[1;33m\u001b[0m\u001b[1;33m\u001b[0m\u001b[0m\n\u001b[1;32m----> 3\u001b[1;33m dohlc = dohlc.astype({\"Open\": float, \"High\": float,\"Low\": float, \"Close\": float,\"Volume\":float\n\u001b[0m\u001b[0;32m      4\u001b[0m })\n\u001b[0;32m      5\u001b[0m \u001b[0mdohlc\u001b[0m\u001b[1;33m.\u001b[0m\u001b[0mto_csv\u001b[0m\u001b[1;33m(\u001b[0m\u001b[1;34m'./files/dohlc.csv'\u001b[0m\u001b[1;33m)\u001b[0m\u001b[1;33m\u001b[0m\u001b[1;33m\u001b[0m\u001b[0m\n",
      "\u001b[1;31mNameError\u001b[0m: name 'dohlc' is not defined"
     ]
    }
   ],
   "source": [
    "import matplotlib\n",
    "import mplfinance as mpf\n",
    "dohlc = dohlc.astype({\"Open\": float, \"High\": float,\"Low\": float, \"Close\": float,\"Volume\":float\n",
    "})\n",
    "dohlc.to_csv('./files/dohlc.csv')\n",
    "#mpf.plot(dohlc,type='ohlc')"
   ]
  },
  {
   "cell_type": "code",
   "execution_count": 23,
   "metadata": {},
   "outputs": [
    {
     "data": {
      "text/plain": [
       "pandas.core.indexes.datetimes.DatetimeIndex"
      ]
     },
     "execution_count": 23,
     "metadata": {},
     "output_type": "execute_result"
    }
   ],
   "source": [
    "type(dohlc.index)"
   ]
  },
  {
   "cell_type": "code",
   "execution_count": 26,
   "metadata": {},
   "outputs": [],
   "source": [
    "ohlcr = pd.read_csv('C:/Proje/bb/files/hadi.csv')\n",
    "final_date=[]\n",
    "date = ohlcr['Opem Time']\n",
    "for time in date.unique():\n",
    "    time = time/1000\n",
    "    readable = datetime.utcfromtimestamp(time)\n",
    "    final_date.append(readable)\n",
    "ohlcr.set_index(pd.DatetimeIndex(final_date), inplace=True)"
   ]
  },
  {
   "cell_type": "code",
   "execution_count": 31,
   "metadata": {},
   "outputs": [],
   "source": [
    "ohlcr = ohlcr.drop('Opem Time',axis=1)"
   ]
  },
  {
   "cell_type": "code",
   "execution_count": 27,
   "metadata": {},
   "outputs": [
    {
     "ename": "NameError",
     "evalue": "name 'ohlcr' is not defined",
     "output_type": "error",
     "traceback": [
      "\u001b[1;31m---------------------------------------------------------------------------\u001b[0m",
      "\u001b[1;31mNameError\u001b[0m                                 Traceback (most recent call last)",
      "\u001b[1;32m<ipython-input-27-9716c020860f>\u001b[0m in \u001b[0;36m<module>\u001b[1;34m\u001b[0m\n\u001b[1;32m----> 1\u001b[1;33m \u001b[0mohlcr\u001b[0m\u001b[1;33m.\u001b[0m\u001b[0mindex\u001b[0m\u001b[1;33m.\u001b[0m\u001b[0mname\u001b[0m \u001b[1;33m=\u001b[0m \u001b[1;34m'Date'\u001b[0m\u001b[1;33m\u001b[0m\u001b[1;33m\u001b[0m\u001b[0m\n\u001b[0m",
      "\u001b[1;31mNameError\u001b[0m: name 'ohlcr' is not defined"
     ]
    }
   ],
   "source": [
    "ohlcr.index.name = 'Date'\n"
   ]
  },
  {
   "cell_type": "code",
   "execution_count": 26,
   "metadata": {},
   "outputs": [
    {
     "ename": "NameError",
     "evalue": "name 'ohlcr' is not defined",
     "output_type": "error",
     "traceback": [
      "\u001b[1;31m---------------------------------------------------------------------------\u001b[0m",
      "\u001b[1;31mNameError\u001b[0m                                 Traceback (most recent call last)",
      "\u001b[1;32m<ipython-input-26-14f216b7066c>\u001b[0m in \u001b[0;36m<module>\u001b[1;34m\u001b[0m\n\u001b[1;32m----> 1\u001b[1;33m \u001b[0mtl\u001b[0m \u001b[1;33m=\u001b[0m \u001b[0mohlcr\u001b[0m\u001b[1;33m.\u001b[0m\u001b[0mloc\u001b[0m\u001b[1;33m[\u001b[0m\u001b[1;34m'2021-02-03 13:30'\u001b[0m\u001b[1;33m:\u001b[0m\u001b[1;34m'2021-02-03 21:15:00'\u001b[0m\u001b[1;33m]\u001b[0m\u001b[1;33m.\u001b[0m\u001b[0mcopy\u001b[0m\u001b[1;33m(\u001b[0m\u001b[1;33m)\u001b[0m\u001b[1;33m\u001b[0m\u001b[1;33m\u001b[0m\u001b[0m\n\u001b[0m\u001b[0;32m      2\u001b[0m \u001b[0mll\u001b[0m \u001b[1;33m=\u001b[0m \u001b[0mbb\u001b[0m\u001b[1;33m.\u001b[0m\u001b[0mpositive_mismatch\u001b[0m\u001b[1;33m(\u001b[0m\u001b[0mohlc8\u001b[0m\u001b[1;33m)\u001b[0m\u001b[1;33m\u001b[0m\u001b[1;33m\u001b[0m\u001b[0m\n",
      "\u001b[1;31mNameError\u001b[0m: name 'ohlcr' is not defined"
     ]
    }
   ],
   "source": [
    "tl = ohlcr.loc['2021-02-03 13:30':'2021-02-03 21:15:00'].copy()\n",
    "ll = bb.positive_mismatch(ohlc8)\n"
   ]
  },
  {
   "cell_type": "code",
   "execution_count": 25,
   "metadata": {},
   "outputs": [
    {
     "ename": "NameError",
     "evalue": "name 'ohlcr' is not defined",
     "output_type": "error",
     "traceback": [
      "\u001b[1;31m---------------------------------------------------------------------------\u001b[0m",
      "\u001b[1;31mNameError\u001b[0m                                 Traceback (most recent call last)",
      "\u001b[1;32m<ipython-input-25-044692502b80>\u001b[0m in \u001b[0;36m<module>\u001b[1;34m\u001b[0m\n\u001b[1;32m----> 1\u001b[1;33m \u001b[1;32mfor\u001b[0m \u001b[0mi\u001b[0m \u001b[1;32min\u001b[0m \u001b[0mrange\u001b[0m\u001b[1;33m(\u001b[0m\u001b[1;36m1\u001b[0m\u001b[1;33m,\u001b[0m\u001b[0mint\u001b[0m\u001b[1;33m(\u001b[0m\u001b[0mlen\u001b[0m\u001b[1;33m(\u001b[0m\u001b[0mohlcr\u001b[0m\u001b[1;33m)\u001b[0m\u001b[1;33m/\u001b[0m\u001b[1;36m32\u001b[0m \u001b[1;33m+\u001b[0m\u001b[1;36m1\u001b[0m\u001b[1;33m)\u001b[0m\u001b[1;33m)\u001b[0m\u001b[1;33m:\u001b[0m\u001b[1;33m\u001b[0m\u001b[1;33m\u001b[0m\u001b[0m\n\u001b[0m\u001b[0;32m      2\u001b[0m     \u001b[0mohlc8\u001b[0m \u001b[1;33m=\u001b[0m \u001b[0mohlcr\u001b[0m\u001b[1;33m.\u001b[0m\u001b[0miloc\u001b[0m\u001b[1;33m[\u001b[0m\u001b[1;33m(\u001b[0m\u001b[0mi\u001b[0m\u001b[1;33m)\u001b[0m\u001b[1;33m:\u001b[0m\u001b[1;33m(\u001b[0m\u001b[1;36m32\u001b[0m\u001b[1;33m*\u001b[0m\u001b[1;36m1\u001b[0m\u001b[1;33m)\u001b[0m\u001b[1;33m]\u001b[0m\u001b[1;33m.\u001b[0m\u001b[0mcopy\u001b[0m\u001b[1;33m(\u001b[0m\u001b[1;33m)\u001b[0m\u001b[1;33m\u001b[0m\u001b[1;33m\u001b[0m\u001b[0m\n\u001b[0;32m      3\u001b[0m     \u001b[0misPositive\u001b[0m \u001b[1;33m=\u001b[0m \u001b[0mbb\u001b[0m\u001b[1;33m.\u001b[0m\u001b[0mpositive_mismatch\u001b[0m\u001b[1;33m(\u001b[0m\u001b[0mohlc8\u001b[0m\u001b[1;33m)\u001b[0m\u001b[1;33m\u001b[0m\u001b[1;33m\u001b[0m\u001b[0m\n\u001b[0;32m      4\u001b[0m \u001b[1;33m\u001b[0m\u001b[0m\n",
      "\u001b[1;31mNameError\u001b[0m: name 'ohlcr' is not defined"
     ]
    }
   ],
   "source": [
    "for i in range(1,int(len(ohlcr)/32 +1)):\n",
    "    ohlc8 = ohlcr.iloc[(i):(32*1)].copy()\n",
    "    isPositive = bb.positive_mismatch(ohlc8)\n",
    " "
   ]
  },
  {
   "cell_type": "code",
   "execution_count": 15,
   "metadata": {},
   "outputs": [],
   "source": [
    "klines = client.get_historical_klines(\"BTCUSDT\", Client.KLINE_INTERVAL_15MINUTE, \"1 day ago UTC\")"
   ]
  },
  {
   "cell_type": "code",
   "execution_count": 16,
   "metadata": {},
   "outputs": [
    {
     "data": {
      "text/html": [
       "<div>\n",
       "<style scoped>\n",
       "    .dataframe tbody tr th:only-of-type {\n",
       "        vertical-align: middle;\n",
       "    }\n",
       "\n",
       "    .dataframe tbody tr th {\n",
       "        vertical-align: top;\n",
       "    }\n",
       "\n",
       "    .dataframe thead th {\n",
       "        text-align: right;\n",
       "    }\n",
       "</style>\n",
       "<table border=\"1\" class=\"dataframe\">\n",
       "  <thead>\n",
       "    <tr style=\"text-align: right;\">\n",
       "      <th></th>\n",
       "      <th>Open Time</th>\n",
       "      <th>Open</th>\n",
       "      <th>High</th>\n",
       "      <th>Low</th>\n",
       "      <th>Close</th>\n",
       "      <th>Volume</th>\n",
       "      <th>Close Time</th>\n",
       "      <th>QA Volume</th>\n",
       "      <th>Number of Trades</th>\n",
       "      <th>TBBA Volume</th>\n",
       "      <th>TBQA Volume</th>\n",
       "      <th>Ignore</th>\n",
       "    </tr>\n",
       "  </thead>\n",
       "  <tbody>\n",
       "    <tr>\n",
       "      <th>0</th>\n",
       "      <td>1613896200000</td>\n",
       "      <td>56099.98000000</td>\n",
       "      <td>56444.26000000</td>\n",
       "      <td>56095.67000000</td>\n",
       "      <td>56361.37000000</td>\n",
       "      <td>477.01136400</td>\n",
       "      <td>1613897099999</td>\n",
       "      <td>26840417.44027420</td>\n",
       "      <td>14312</td>\n",
       "      <td>251.86924600</td>\n",
       "      <td>14171131.79793705</td>\n",
       "      <td>0</td>\n",
       "    </tr>\n",
       "    <tr>\n",
       "      <th>1</th>\n",
       "      <td>1613897100000</td>\n",
       "      <td>56361.36000000</td>\n",
       "      <td>56676.70000000</td>\n",
       "      <td>56358.87000000</td>\n",
       "      <td>56513.22000000</td>\n",
       "      <td>636.85460700</td>\n",
       "      <td>1613897999999</td>\n",
       "      <td>36003960.92696925</td>\n",
       "      <td>17864</td>\n",
       "      <td>382.10512000</td>\n",
       "      <td>21600964.80649716</td>\n",
       "      <td>0</td>\n",
       "    </tr>\n",
       "    <tr>\n",
       "      <th>2</th>\n",
       "      <td>1613898000000</td>\n",
       "      <td>56513.21000000</td>\n",
       "      <td>56610.00000000</td>\n",
       "      <td>56400.00000000</td>\n",
       "      <td>56424.12000000</td>\n",
       "      <td>341.98260000</td>\n",
       "      <td>1613898899999</td>\n",
       "      <td>19320539.13270400</td>\n",
       "      <td>13749</td>\n",
       "      <td>163.33173300</td>\n",
       "      <td>9227816.28584092</td>\n",
       "      <td>0</td>\n",
       "    </tr>\n",
       "    <tr>\n",
       "      <th>3</th>\n",
       "      <td>1613898900000</td>\n",
       "      <td>56424.12000000</td>\n",
       "      <td>56547.82000000</td>\n",
       "      <td>56388.69000000</td>\n",
       "      <td>56450.98000000</td>\n",
       "      <td>416.04004600</td>\n",
       "      <td>1613899799999</td>\n",
       "      <td>23492906.75163787</td>\n",
       "      <td>14337</td>\n",
       "      <td>233.24785800</td>\n",
       "      <td>13170855.79008158</td>\n",
       "      <td>0</td>\n",
       "    </tr>\n",
       "    <tr>\n",
       "      <th>4</th>\n",
       "      <td>1613899800000</td>\n",
       "      <td>56450.99000000</td>\n",
       "      <td>56500.00000000</td>\n",
       "      <td>56367.25000000</td>\n",
       "      <td>56417.52000000</td>\n",
       "      <td>387.21904200</td>\n",
       "      <td>1613900699999</td>\n",
       "      <td>21851754.81032528</td>\n",
       "      <td>14581</td>\n",
       "      <td>208.91278500</td>\n",
       "      <td>11789033.29289153</td>\n",
       "      <td>0</td>\n",
       "    </tr>\n",
       "  </tbody>\n",
       "</table>\n",
       "</div>"
      ],
      "text/plain": [
       "       Open Time            Open            High             Low  \\\n",
       "0  1613896200000  56099.98000000  56444.26000000  56095.67000000   \n",
       "1  1613897100000  56361.36000000  56676.70000000  56358.87000000   \n",
       "2  1613898000000  56513.21000000  56610.00000000  56400.00000000   \n",
       "3  1613898900000  56424.12000000  56547.82000000  56388.69000000   \n",
       "4  1613899800000  56450.99000000  56500.00000000  56367.25000000   \n",
       "\n",
       "            Close        Volume     Close Time          QA Volume  \\\n",
       "0  56361.37000000  477.01136400  1613897099999  26840417.44027420   \n",
       "1  56513.22000000  636.85460700  1613897999999  36003960.92696925   \n",
       "2  56424.12000000  341.98260000  1613898899999  19320539.13270400   \n",
       "3  56450.98000000  416.04004600  1613899799999  23492906.75163787   \n",
       "4  56417.52000000  387.21904200  1613900699999  21851754.81032528   \n",
       "\n",
       "   Number of Trades   TBBA Volume        TBQA Volume Ignore  \n",
       "0             14312  251.86924600  14171131.79793705      0  \n",
       "1             17864  382.10512000  21600964.80649716      0  \n",
       "2             13749  163.33173300   9227816.28584092      0  \n",
       "3             14337  233.24785800  13170855.79008158      0  \n",
       "4             14581  208.91278500  11789033.29289153      0  "
      ]
     },
     "execution_count": 16,
     "metadata": {},
     "output_type": "execute_result"
    }
   ],
   "source": [
    "#color =  bb.COC(klines)\n",
    "color = pd.DataFrame(klines, columns=config.FIELD_HISTORICAL)\n",
    "color.head()"
   ]
  },
  {
   "cell_type": "code",
   "execution_count": 17,
   "metadata": {},
   "outputs": [],
   "source": [
    "def set_date(df):\n",
    "    date = df['Open Time']\n",
    "    final_date = []\n",
    "    for time in date.unique():\n",
    "        time = time/1000\n",
    "        readable = datetime.utcfromtimestamp(time)\n",
    "        final_date.append(readable) \n",
    "    df.set_index(pd.DatetimeIndex(final_date), inplace=True)\n"
   ]
  },
  {
   "cell_type": "code",
   "execution_count": 18,
   "metadata": {},
   "outputs": [],
   "source": [
    "set_date(color)\n",
    "rsi = talib.RSI(color['Close'],14)\n",
    "color['RSI'] = rsi\n",
    "color.dropna(inplace=True)\n",
    "color = color[['Open','High','Low','Close','Volume','RSI']]\n",
    "color.head()\n",
    "color.sort_index(ascending=False, inplace=True)\n",
    " "
   ]
  },
  {
   "cell_type": "code",
   "execution_count": 27,
   "metadata": {},
   "outputs": [],
   "source": [
    "def COCD(df):\n",
    "    color= []\n",
    "    for i in range(len(df)):\n",
    "       \n",
    "        if float(df.iloc[i,0]) > float(df.iloc[i,3]):\n",
    "            color.append('RED')\n",
    "        else:\n",
    "            color.append('GREEN')\n",
    "    df['C'] = color\n",
    "    \n",
    "\n"
   ]
  },
  {
   "cell_type": "code",
   "execution_count": 8,
   "metadata": {},
   "outputs": [
    {
     "data": {
      "text/plain": [
       "'2021-02-22 08:00:00'"
      ]
     },
     "execution_count": 8,
     "metadata": {},
     "output_type": "execute_result"
    }
   ],
   "source": [
    "str(color.iloc[0].name)"
   ]
  },
  {
   "cell_type": "code",
   "execution_count": 9,
   "metadata": {},
   "outputs": [],
   "source": [
    "color_grp = color.groupby('C')"
   ]
  },
  {
   "cell_type": "code",
   "execution_count": 10,
   "metadata": {},
   "outputs": [
    {
     "data": {
      "text/html": [
       "<div>\n",
       "<style scoped>\n",
       "    .dataframe tbody tr th:only-of-type {\n",
       "        vertical-align: middle;\n",
       "    }\n",
       "\n",
       "    .dataframe tbody tr th {\n",
       "        vertical-align: top;\n",
       "    }\n",
       "\n",
       "    .dataframe thead th {\n",
       "        text-align: right;\n",
       "    }\n",
       "</style>\n",
       "<table border=\"1\" class=\"dataframe\">\n",
       "  <thead>\n",
       "    <tr style=\"text-align: right;\">\n",
       "      <th></th>\n",
       "      <th>Open</th>\n",
       "      <th>High</th>\n",
       "      <th>Low</th>\n",
       "      <th>Close</th>\n",
       "      <th>Volume</th>\n",
       "      <th>RSI</th>\n",
       "      <th>C</th>\n",
       "    </tr>\n",
       "  </thead>\n",
       "  <tbody>\n",
       "    <tr>\n",
       "      <th>2021-02-22 08:00:00</th>\n",
       "      <td>56422.23000000</td>\n",
       "      <td>56623.69000000</td>\n",
       "      <td>56282.54000000</td>\n",
       "      <td>56302.03000000</td>\n",
       "      <td>476.89642700</td>\n",
       "      <td>48.880971</td>\n",
       "      <td>RED</td>\n",
       "    </tr>\n",
       "    <tr>\n",
       "      <th>2021-02-22 07:45:00</th>\n",
       "      <td>56533.62000000</td>\n",
       "      <td>56550.00000000</td>\n",
       "      <td>56267.04000000</td>\n",
       "      <td>56422.92000000</td>\n",
       "      <td>605.08954800</td>\n",
       "      <td>51.181223</td>\n",
       "      <td>RED</td>\n",
       "    </tr>\n",
       "    <tr>\n",
       "      <th>2021-02-22 06:45:00</th>\n",
       "      <td>56203.11000000</td>\n",
       "      <td>56350.00000000</td>\n",
       "      <td>55989.35000000</td>\n",
       "      <td>55989.36000000</td>\n",
       "      <td>459.60815800</td>\n",
       "      <td>42.933170</td>\n",
       "      <td>RED</td>\n",
       "    </tr>\n",
       "    <tr>\n",
       "      <th>2021-02-22 06:30:00</th>\n",
       "      <td>56226.37000000</td>\n",
       "      <td>56300.00000000</td>\n",
       "      <td>56004.35000000</td>\n",
       "      <td>56203.11000000</td>\n",
       "      <td>406.76438200</td>\n",
       "      <td>46.321209</td>\n",
       "      <td>RED</td>\n",
       "    </tr>\n",
       "    <tr>\n",
       "      <th>2021-02-22 06:15:00</th>\n",
       "      <td>56289.19000000</td>\n",
       "      <td>56377.00000000</td>\n",
       "      <td>56162.76000000</td>\n",
       "      <td>56223.24000000</td>\n",
       "      <td>450.69291900</td>\n",
       "      <td>46.643090</td>\n",
       "      <td>RED</td>\n",
       "    </tr>\n",
       "  </tbody>\n",
       "</table>\n",
       "</div>"
      ],
      "text/plain": [
       "                               Open            High             Low  \\\n",
       "2021-02-22 08:00:00  56422.23000000  56623.69000000  56282.54000000   \n",
       "2021-02-22 07:45:00  56533.62000000  56550.00000000  56267.04000000   \n",
       "2021-02-22 06:45:00  56203.11000000  56350.00000000  55989.35000000   \n",
       "2021-02-22 06:30:00  56226.37000000  56300.00000000  56004.35000000   \n",
       "2021-02-22 06:15:00  56289.19000000  56377.00000000  56162.76000000   \n",
       "\n",
       "                              Close        Volume        RSI    C  \n",
       "2021-02-22 08:00:00  56302.03000000  476.89642700  48.880971  RED  \n",
       "2021-02-22 07:45:00  56422.92000000  605.08954800  51.181223  RED  \n",
       "2021-02-22 06:45:00  55989.36000000  459.60815800  42.933170  RED  \n",
       "2021-02-22 06:30:00  56203.11000000  406.76438200  46.321209  RED  \n",
       "2021-02-22 06:15:00  56223.24000000  450.69291900  46.643090  RED  "
      ]
     },
     "execution_count": 10,
     "metadata": {},
     "output_type": "execute_result"
    }
   ],
   "source": [
    "color_grp.get_group('RED').head()"
   ]
  },
  {
   "cell_type": "code",
   "execution_count": 12,
   "metadata": {},
   "outputs": [],
   "source": [
    "def get_signal(df):\n",
    "    date = str(df.iloc[0].name)\n",
    "    signals= pd.DataFrame(columns=[date,'Close>','RSI>','Close','RSI'])\n",
    "  \n",
    "    \n",
    "    close = float(df.iloc[0,3])\n",
    "    rsi = float(df.iloc[0,5])\n",
    "    for i in range(1,(len(df))):\n",
    "        if close > float(df.iloc[i,3]):\n",
    "            isBTC  = True\n",
    "        else:\n",
    "            isBTC = False\n",
    "            \n",
    "        if rsi > float(df.iloc[i,5]):\n",
    "            isBTR  = True\n",
    "        else:\n",
    "            isBTR = False\n",
    "        \n",
    "        if isBTC != isBTR:\n",
    "            signals = signals.append({date:df.iloc[i].name,'Close>':isBTC,'RSI>':isBTR,'Close':df.iloc[i,3],'RSI':df.iloc[i,5]},ignore_index=True)\n",
    "    \n",
    "    \n",
    "    signals = signals.set_index(signals[date]).drop(date, 1 )\n",
    "    return signals"
   ]
  },
  {
   "cell_type": "code",
   "execution_count": 13,
   "metadata": {},
   "outputs": [],
   "source": [
    "if str(color.iloc[0,6]) == 'GREEN':\n",
    "    signal = get_signal(color_grp.get_group('GREEN'))\n",
    "else:\n",
    "    signal = get_signal(color_grp.get_group('RED'))\n"
   ]
  },
  {
   "cell_type": "code",
   "execution_count": 25,
   "metadata": {},
   "outputs": [],
   "source": [
    "c = color.tail(1)['C'].values[0]"
   ]
  },
  {
   "cell_type": "code",
   "execution_count": 4,
   "metadata": {},
   "outputs": [],
   "source": [
    "#color =  bb.COC(klines)\n",
    "klines = client.get_historical_klines(\"SUSHIUSDT\", Client.KLINE_INTERVAL_15MINUTE, \"1 day ago UTC\")\n",
    "df1 = pd.DataFrame(klines, columns=config.FIELD_HISTORICAL)\n",
    "bb.set_date(df1)\n",
    "df1 = df1[['Open','High','Low','Close','Volume']].copy()\n",
    "df1.head()\n",
    "high = df1['High']\n",
    "low = df1['Low']\n",
    "close = df1['Close']\n",
    "volume = df1['Volume']\n"
   ]
  },
  {
   "cell_type": "code",
   "execution_count": 5,
   "metadata": {},
   "outputs": [],
   "source": [
    "rsi = RSI(close,14)\n",
    "ndi = MINUS_DI(high, low, close, timeperiod=14)\n",
    "pdi = PLUS_DI(high, low, close, timeperiod=14)\n",
    "adx= ADX(high, low, close, timeperiod=14)\n",
    "atr = ATR(high, low, close, timeperiod=14)"
   ]
  },
  {
   "cell_type": "code",
   "execution_count": 6,
   "metadata": {},
   "outputs": [],
   "source": [
    "datar = df1.copy()\n",
    "datar['RSI']= rsi\n",
    "datar['DI+']= pdi\n",
    "datar['DI-']= ndi\n",
    "datar['ADX']= adx\n",
    "datar['ATR']= atr\n",
    "datar.dropna(inplace=True)\n",
    "datar.sort_index(ascending=False, inplace=True)"
   ]
  },
  {
   "cell_type": "code",
   "execution_count": 7,
   "metadata": {},
   "outputs": [
    {
     "data": {
      "text/plain": [
       "Open         15.88900000\n",
       "High         16.07200000\n",
       "Low          15.88800000\n",
       "Close        16.04200000\n",
       "Volume    21809.09600000\n",
       "RSI              41.3322\n",
       "DI+              12.9344\n",
       "DI-              33.8747\n",
       "ADX              42.6182\n",
       "ATR             0.167546\n",
       "Name: 2021-04-17 13:30:00, dtype: object"
      ]
     },
     "execution_count": 7,
     "metadata": {},
     "output_type": "execute_result"
    }
   ],
   "source": [
    "datar.iloc[0]"
   ]
  },
  {
   "cell_type": "code",
   "execution_count": 8,
   "metadata": {},
   "outputs": [
    {
     "data": {
      "text/plain": [
       "2021-04-16 13:30:00         NaN\n",
       "2021-04-16 13:45:00         NaN\n",
       "2021-04-16 14:00:00         NaN\n",
       "2021-04-16 14:15:00         NaN\n",
       "2021-04-16 14:30:00         NaN\n",
       "                         ...   \n",
       "2021-04-17 12:15:00    9.584332\n",
       "2021-04-17 12:30:00    8.780015\n",
       "2021-04-17 12:45:00    8.999223\n",
       "2021-04-17 13:00:00    8.946861\n",
       "2021-04-17 13:15:00    8.105226\n",
       "Length: 96, dtype: float64"
      ]
     },
     "execution_count": 8,
     "metadata": {},
     "output_type": "execute_result"
    }
   ],
   "source": [
    "pdi"
   ]
  },
  {
   "cell_type": "code",
   "execution_count": 35,
   "metadata": {},
   "outputs": [
    {
     "data": {
      "text/plain": [
       "2021-02-22 11:45:00          NaN\n",
       "2021-02-22 12:00:00          NaN\n",
       "2021-02-22 12:15:00          NaN\n",
       "2021-02-22 12:30:00          NaN\n",
       "2021-02-22 12:45:00          NaN\n",
       "                         ...    \n",
       "2021-02-23 10:30:00    42.375055\n",
       "2021-02-23 10:45:00    42.545208\n",
       "2021-02-23 11:00:00    42.517205\n",
       "2021-02-23 11:15:00    43.161397\n",
       "2021-02-23 11:30:00    43.870719\n",
       "Length: 96, dtype: float64"
      ]
     },
     "execution_count": 35,
     "metadata": {},
     "output_type": "execute_result"
    }
   ],
   "source": [
    "adxr"
   ]
  },
  {
   "cell_type": "code",
   "execution_count": 36,
   "metadata": {},
   "outputs": [
    {
     "data": {
      "text/plain": [
       "2021-02-22 11:45:00         NaN\n",
       "2021-02-22 12:00:00         NaN\n",
       "2021-02-22 12:15:00         NaN\n",
       "2021-02-22 12:30:00         NaN\n",
       "2021-02-22 12:45:00         NaN\n",
       "                         ...   \n",
       "2021-02-23 10:30:00    0.700923\n",
       "2021-02-23 10:45:00    0.680857\n",
       "2021-02-23 11:00:00    0.656153\n",
       "2021-02-23 11:15:00    0.665285\n",
       "2021-02-23 11:30:00    0.648479\n",
       "Length: 96, dtype: float64"
      ]
     },
     "execution_count": 36,
     "metadata": {},
     "output_type": "execute_result"
    }
   ],
   "source": [
    "atr"
   ]
  },
  {
   "cell_type": "code",
   "execution_count": 44,
   "metadata": {},
   "outputs": [
    {
     "data": {
      "text/html": [
       "<div>\n",
       "<style scoped>\n",
       "    .dataframe tbody tr th:only-of-type {\n",
       "        vertical-align: middle;\n",
       "    }\n",
       "\n",
       "    .dataframe tbody tr th {\n",
       "        vertical-align: top;\n",
       "    }\n",
       "\n",
       "    .dataframe thead th {\n",
       "        text-align: right;\n",
       "    }\n",
       "</style>\n",
       "<table border=\"1\" class=\"dataframe\">\n",
       "  <thead>\n",
       "    <tr style=\"text-align: right;\">\n",
       "      <th></th>\n",
       "      <th>d1</th>\n",
       "      <th>d2</th>\n",
       "    </tr>\n",
       "  </thead>\n",
       "  <tbody>\n",
       "    <tr>\n",
       "      <th>0</th>\n",
       "      <td>cl</td>\n",
       "      <td>12</td>\n",
       "    </tr>\n",
       "  </tbody>\n",
       "</table>\n",
       "</div>"
      ],
      "text/plain": [
       "   d1  d2\n",
       "0  cl  12"
      ]
     },
     "execution_count": 44,
     "metadata": {},
     "output_type": "execute_result"
    }
   ],
   "source": [
    "deneme = pd.DataFrame([['cl','12']],columns=['d1','d2'])\n",
    "deneme.to_csv('omer.csv')\n",
    "deneme"
   ]
  },
  {
   "cell_type": "code",
   "execution_count": 62,
   "metadata": {},
   "outputs": [
    {
     "data": {
      "text/html": [
       "<div>\n",
       "<style scoped>\n",
       "    .dataframe tbody tr th:only-of-type {\n",
       "        vertical-align: middle;\n",
       "    }\n",
       "\n",
       "    .dataframe tbody tr th {\n",
       "        vertical-align: top;\n",
       "    }\n",
       "\n",
       "    .dataframe thead th {\n",
       "        text-align: right;\n",
       "    }\n",
       "</style>\n",
       "<table border=\"1\" class=\"dataframe\">\n",
       "  <thead>\n",
       "    <tr style=\"text-align: right;\">\n",
       "      <th></th>\n",
       "      <th>d1</th>\n",
       "      <th>d2</th>\n",
       "    </tr>\n",
       "  </thead>\n",
       "  <tbody>\n",
       "    <tr>\n",
       "      <th>0</th>\n",
       "      <td>sa2</td>\n",
       "      <td>2</td>\n",
       "    </tr>\n",
       "  </tbody>\n",
       "</table>\n",
       "</div>"
      ],
      "text/plain": [
       "    d1 d2\n",
       "0  sa2  2"
      ]
     },
     "execution_count": 62,
     "metadata": {},
     "output_type": "execute_result"
    }
   ],
   "source": [
    "la = pd.DataFrame([['sa2','2']],columns=['d1','d2'])\n",
    "\n",
    "la\n"
   ]
  },
  {
   "cell_type": "code",
   "execution_count": 63,
   "metadata": {},
   "outputs": [],
   "source": [
    "\n",
    "import os\n",
    "if os.path.exists('omer1.csv'):\n",
    "    la.to_csv('omer1.csv',mode='a',header=False)\n",
    "else:\n",
    "    la.to_csv('omer1.csv',mode='a')"
   ]
  },
  {
   "cell_type": "code",
   "execution_count": 85,
   "metadata": {},
   "outputs": [],
   "source": [
    "class position:\n",
    "  \n",
    "    def __init__(self,df,symbol,margin,leverage,sl):\n",
    "        \n",
    "        self.open_price = float(df.iloc[3])\n",
    "        self.symbol = symbol\n",
    "        self.rsi = float(df.iloc[5])\n",
    "        self.pdi = float(df.iloc[6])\n",
    "        self.ndi = float(df.iloc[7])\n",
    "        self.adx = float(df.iloc[8])\n",
    "        self.atr = float(df.iloc[9])\n",
    "        self.margin = margin\n",
    "        self.leverage = leverage\n",
    "        self.date = df.name\n",
    "        self.stop_loss = self.open_price - self.atr*2\n",
    "        self.sl = sl\n",
    "        \n",
    "        \n",
    "        print('{}_{} : Proccess is opened'.format(self.date,symbol))\n",
    "        df_open = pd.DataFrame([[self.sl,self.date,self.open_price,self.stop_loss,self.margin,self.leverage]],columns=['Position','Open Time','Open Price','Stop Loss','Margin','Leverage'])\n",
    "        print(df_open)\n",
    "      \n",
    "        \n",
    "    def close_position(self,success):\n",
    "        rate = (self.current_price - self.open_price) / self.open_price\n",
    "        pl = rate * self.margin * self.leverage\n",
    "        \n",
    "        df_close = pd.DataFrame([[self.symbol,self.sl,self.date,self.current_date,self.open_price,self.current_price,rate,success,self.margin,self.leverage,pl]],columns=['Symbol','Position','Open Time','Close Time','Open Price','Close Price','Rate','Success','Margin','Leverage','PL'])\n",
    "        if os.path.exists('Trades.csv'):\n",
    "            df_close.to_csv('Trades.csv',mode='a',header=False)\n",
    "        else:\n",
    "            df_close.to_csv('Trades.csv',mode='a')\n",
    "            \n",
    "        print(df_close)\n",
    "       \n",
    "    \n",
    "    def get_price_time(self,price,date):\n",
    "        self.current_price = float(price)\n",
    "        self.current_date = date\n",
    "    \n",
    "        \n",
    "        \n",
    "    def __del__(self):\n",
    "        print('position is closed')\n",
    "            \n",
    "    def check_stop_loss(self):\n",
    "        if self.current_price <= self.stop_loss:\n",
    "            success = False\n",
    "            self.close_position(success)\n",
    "            return True\n",
    "        return False\n",
    "        \n",
    "    def check_dmi_pattern(self,pdi,ndi,adx):\n",
    "            if ndi>adx>pdi:\n",
    "                success = False\n",
    "                if self.current_price >= self.open_price:\n",
    "                    success = True\n",
    "               \n",
    "                self.close_position(success)\n",
    "                return True\n",
    "            return False\n",
    "        \n",
    "        \n",
    "        \n",
    "  \n",
    "\n",
    "    \n",
    "        \n",
    "        \n",
    "        \n",
    "        \n",
    "        \n",
    "    \n",
    "    "
   ]
  },
  {
   "cell_type": "code",
   "execution_count": 88,
   "metadata": {},
   "outputs": [
    {
     "name": "stdout",
     "output_type": "stream",
     "text": [
      "2021-04-17 13:30:00_SXPUSDT : Proccess is opened\n",
      "  Position           Open Time  Open Price  Stop Loss  Margin  Leverage\n",
      "0    Short 2021-04-17 13:30:00      16.042  15.706908     100        10\n"
     ]
    },
    {
     "data": {
      "text/plain": [
       "16.042"
      ]
     },
     "execution_count": 88,
     "metadata": {},
     "output_type": "execute_result"
    }
   ],
   "source": [
    "p1 = position(datar.iloc[0],'SXPUSDT',100,10,'Short')\n",
    "p1.open_price"
   ]
  },
  {
   "cell_type": "code",
   "execution_count": 89,
   "metadata": {},
   "outputs": [],
   "source": [
    "p1.get_price_time(12.084,'2021-02-23 17:15:00')"
   ]
  },
  {
   "cell_type": "code",
   "execution_count": 90,
   "metadata": {},
   "outputs": [
    {
     "name": "stdout",
     "output_type": "stream",
     "text": [
      "    Symbol Position           Open Time           Close Time  Open Price  \\\n",
      "0  SXPUSDT    Short 2021-04-17 13:30:00  2021-02-23 17:15:00      16.042   \n",
      "\n",
      "   Close Price      Rate  Success  Margin  Leverage          PL  \n",
      "0       12.084 -0.246727    False     100        10 -246.727341  \n"
     ]
    }
   ],
   "source": [
    "is_closed = p1.check_stop_loss()"
   ]
  },
  {
   "cell_type": "code",
   "execution_count": 91,
   "metadata": {},
   "outputs": [
    {
     "name": "stdout",
     "output_type": "stream",
     "text": [
      "position is closed\n"
     ]
    }
   ],
   "source": [
    "if is_closed:\n",
    "    del p1"
   ]
  },
  {
   "cell_type": "code",
   "execution_count": 49,
   "metadata": {},
   "outputs": [
    {
     "name": "stdout",
     "output_type": "stream",
     "text": [
      "12.93444653540628 33.8746816772088 42.618166290942675\n"
     ]
    }
   ],
   "source": [
    "print(p1.pdi,\n",
    "p1.ndi,\n",
    "p1.adx)"
   ]
  },
  {
   "cell_type": "code",
   "execution_count": 50,
   "metadata": {},
   "outputs": [
    {
     "name": "stdout",
     "output_type": "stream",
     "text": [
      "      Symbol           Open Time           Close Time  Open Price  \\\n",
      "0  SUSHIUSDT 2021-04-17 13:30:00  2021-02-23 17:15:00      16.042   \n",
      "\n",
      "   Close Price  Rate  Success  Margin  Leverage      PL  \n",
      "0       32.084   1.0     True     100        10  1000.0  \n",
      "position is closed\n"
     ]
    }
   ],
   "source": [
    "if p1.check_dmi_pattern(8,22,12):\n",
    "    del p1"
   ]
  },
  {
   "cell_type": "code",
   "execution_count": 76,
   "metadata": {},
   "outputs": [
    {
     "data": {
      "text/plain": [
       "16.042"
      ]
     },
     "execution_count": 76,
     "metadata": {},
     "output_type": "execute_result"
    }
   ],
   "source": [
    "long_positions[0].open_price"
   ]
  },
  {
   "cell_type": "code",
   "execution_count": 87,
   "metadata": {},
   "outputs": [],
   "source": [
    "transactions = []\n"
   ]
  },
  {
   "cell_type": "code",
   "execution_count": 95,
   "metadata": {},
   "outputs": [
    {
     "name": "stdout",
     "output_type": "stream",
     "text": [
      "2021-04-17 09:15:00_SUSHIUSDT : Proccess is opened\n",
      "            Open Time  Open Price  Stop Loss\n",
      "0 2021-04-17 09:15:00      16.464  16.195335\n",
      "2021-04-17 09:15:00_TOMOUSDT : Proccess is opened\n",
      "            Open Time  Open Price  Stop Loss\n",
      "0 2021-04-17 09:15:00      16.464  16.195335\n",
      "2021-04-17 09:15:00_SXPUSDT : Proccess is opened\n",
      "            Open Time  Open Price  Stop Loss\n",
      "0 2021-04-17 09:15:00      16.464  16.195335\n",
      "2021-04-17 09:15:00_SUSHIUSDT : Proccess is opened\n",
      "            Open Time  Open Price  Stop Loss\n",
      "0 2021-04-17 09:15:00      16.464  16.195335\n"
     ]
    }
   ],
   "source": [
    "transactions.append(position(datar.iloc[0],'SUSHIUSDT'))\n",
    "transactions.append(position(datar.iloc[0],'TOMOUSDT'))\n",
    "transactions.append(position(datar.iloc[0],'SXPUSDT'))\n",
    "transactions.append(position(datar.iloc[0],'SUSHIUSDT'))"
   ]
  },
  {
   "cell_type": "code",
   "execution_count": 99,
   "metadata": {},
   "outputs": [
    {
     "data": {
      "text/plain": [
       "4"
      ]
     },
     "execution_count": 99,
     "metadata": {},
     "output_type": "execute_result"
    }
   ],
   "source": [
    "len(transactions)"
   ]
  },
  {
   "cell_type": "code",
   "execution_count": 14,
   "metadata": {},
   "outputs": [],
   "source": [
    "long_positions = []\n",
    "short_positions = []\n",
    "TRADE_SYMBOL = 'BTCUSDT'"
   ]
  },
  {
   "cell_type": "raw",
   "metadata": {},
   "source": [
    "long_positions.append(positions(datar.iloc[0],TRADE_SYMBOL)"
   ]
  },
  {
   "cell_type": "code",
   "execution_count": 97,
   "metadata": {},
   "outputs": [
    {
     "name": "stdout",
     "output_type": "stream",
     "text": [
      "position is closed\n"
     ]
    }
   ],
   "source": [
    "for transaction in transactions:\n",
    "    transaction.get_price_time(15,'2021-02-23 17:15:00')"
   ]
  },
  {
   "cell_type": "code",
   "execution_count": 98,
   "metadata": {},
   "outputs": [
    {
     "data": {
      "text/plain": [
       "<__main__.position at 0xbbbe2f8>"
      ]
     },
     "execution_count": 98,
     "metadata": {},
     "output_type": "execute_result"
    }
   ],
   "source": [
    "transactions[0]\n"
   ]
  },
  {
   "cell_type": "code",
   "execution_count": 100,
   "metadata": {},
   "outputs": [
    {
     "name": "stdout",
     "output_type": "stream",
     "text": [
      "      Symbol           Open Time           Close Time  Open Price  \\\n",
      "0  SUSHIUSDT 2021-04-17 09:15:00  2021-02-23 17:15:00      16.464   \n",
      "\n",
      "   Close Price      Rate  Success  \n",
      "0         15.0 -0.088921    False  \n",
      "     Symbol           Open Time           Close Time  Open Price  Close Price  \\\n",
      "0  TOMOUSDT 2021-04-17 09:15:00  2021-02-23 17:15:00      16.464         15.0   \n",
      "\n",
      "       Rate  Success  \n",
      "0 -0.088921    False  \n",
      "    Symbol           Open Time           Close Time  Open Price  Close Price  \\\n",
      "0  SXPUSDT 2021-04-17 09:15:00  2021-02-23 17:15:00      16.464         15.0   \n",
      "\n",
      "       Rate  Success  \n",
      "0 -0.088921    False  \n",
      "      Symbol           Open Time           Close Time  Open Price  \\\n",
      "0  SUSHIUSDT 2021-04-17 09:15:00  2021-02-23 17:15:00      16.464   \n",
      "\n",
      "   Close Price      Rate  Success  \n",
      "0         15.0 -0.088921    False  \n"
     ]
    }
   ],
   "source": [
    "for transaction in transactions:\n",
    "    if transaction.check_stop_loss():\n",
    "        del transaction\n",
    "    else:\n",
    "        print('proccess still opend')\n"
   ]
  },
  {
   "cell_type": "code",
   "execution_count": 102,
   "metadata": {},
   "outputs": [
    {
     "name": "stdout",
     "output_type": "stream",
     "text": [
      "      Symbol           Open Time           Close Time  Open Price  \\\n",
      "0  SUSHIUSDT 2021-04-17 09:15:00  2021-02-23 17:15:00      16.464   \n",
      "\n",
      "   Close Price      Rate  Success  \n",
      "0         15.0 -0.088921    False  \n",
      "     Symbol           Open Time           Close Time  Open Price  Close Price  \\\n",
      "0  TOMOUSDT 2021-04-17 09:15:00  2021-02-23 17:15:00      16.464         15.0   \n",
      "\n",
      "       Rate  Success  \n",
      "0 -0.088921    False  \n",
      "position is closed\n",
      "    Symbol           Open Time           Close Time  Open Price  Close Price  \\\n",
      "0  SXPUSDT 2021-04-17 09:15:00  2021-02-23 17:15:00      16.464         15.0   \n",
      "\n",
      "       Rate  Success  \n",
      "0 -0.088921    False  \n",
      "position is closed\n",
      "      Symbol           Open Time           Close Time  Open Price  \\\n",
      "0  SUSHIUSDT 2021-04-17 09:15:00  2021-02-23 17:15:00      16.464   \n",
      "\n",
      "   Close Price      Rate  Success  \n",
      "0         15.0 -0.088921    False  \n",
      "position is closed\n"
     ]
    }
   ],
   "source": [
    "i = 0\n",
    "\n",
    "while i< len(transactions):\n",
    "    if transactions[i].check_stop_loss():\n",
    "        del transactions[i]\n",
    "      \n",
    "    else:\n",
    "        print('proccess still opend')\n",
    "        i +=1\n"
   ]
  },
  {
   "cell_type": "code",
   "execution_count": 103,
   "metadata": {},
   "outputs": [
    {
     "data": {
      "text/plain": [
       "0"
      ]
     },
     "execution_count": 103,
     "metadata": {},
     "output_type": "execute_result"
    }
   ],
   "source": [
    "len(transactions)"
   ]
  },
  {
   "cell_type": "code",
   "execution_count": 118,
   "metadata": {},
   "outputs": [],
   "source": [
    "p  = [1,2,3,4]"
   ]
  },
  {
   "cell_type": "code",
   "execution_count": 109,
   "metadata": {},
   "outputs": [
    {
     "name": "stdout",
     "output_type": "stream",
     "text": [
      "la\n"
     ]
    }
   ],
   "source": [
    "if p[1]:\n",
    "    print('la')"
   ]
  },
  {
   "cell_type": "code",
   "execution_count": 1,
   "metadata": {},
   "outputs": [],
   "source": [
    "\n",
    "import tests\n",
    "    \n",
    "    \n",
    "global fh \n",
    "fh = 'la'"
   ]
  },
  {
   "cell_type": "code",
   "execution_count": 3,
   "metadata": {},
   "outputs": [
    {
     "name": "stdout",
     "output_type": "stream",
     "text": [
      "lalala\n"
     ]
    }
   ],
   "source": [
    "\n",
    "\n",
    "\n",
    "tests.ss()\n"
   ]
  },
  {
   "cell_type": "code",
   "execution_count": 14,
   "metadata": {},
   "outputs": [
    {
     "ename": "NameError",
     "evalue": "name 'client' is not defined",
     "output_type": "error",
     "traceback": [
      "\u001b[1;31m---------------------------------------------------------------------------\u001b[0m",
      "\u001b[1;31mNameError\u001b[0m                                 Traceback (most recent call last)",
      "\u001b[1;32m<ipython-input-14-70729b003380>\u001b[0m in \u001b[0;36m<module>\u001b[1;34m\u001b[0m\n\u001b[1;32m----> 1\u001b[1;33m \u001b[0mklines\u001b[0m \u001b[1;33m=\u001b[0m \u001b[0mclient\u001b[0m\u001b[1;33m.\u001b[0m\u001b[0mget_historical_klines\u001b[0m\u001b[1;33m(\u001b[0m\u001b[1;34m'SUSHIUSDT'\u001b[0m\u001b[1;33m,\u001b[0m \u001b[0mClient\u001b[0m\u001b[1;33m.\u001b[0m\u001b[0mKLINE_INTERVAL_15MINUTE\u001b[0m\u001b[1;33m,\u001b[0m \u001b[1;34m\"1 day ago UTC\"\u001b[0m\u001b[1;33m)\u001b[0m\u001b[1;33m\u001b[0m\u001b[1;33m\u001b[0m\u001b[0m\n\u001b[0m\u001b[0;32m      2\u001b[0m \u001b[1;33m\u001b[0m\u001b[0m\n\u001b[0;32m      3\u001b[0m \u001b[0mdata\u001b[0m \u001b[1;33m=\u001b[0m \u001b[0mpd\u001b[0m\u001b[1;33m.\u001b[0m\u001b[0mDataFrame\u001b[0m\u001b[1;33m(\u001b[0m\u001b[0mklines\u001b[0m\u001b[1;33m,\u001b[0m \u001b[0mcolumns\u001b[0m\u001b[1;33m=\u001b[0m\u001b[0mconfig\u001b[0m\u001b[1;33m.\u001b[0m\u001b[0mFIELD_HISTORICAL\u001b[0m\u001b[1;33m)\u001b[0m\u001b[1;33m\u001b[0m\u001b[1;33m\u001b[0m\u001b[0m\n\u001b[0;32m      4\u001b[0m \u001b[0mbb\u001b[0m\u001b[1;33m.\u001b[0m\u001b[0mset_date\u001b[0m\u001b[1;33m(\u001b[0m\u001b[0mdata\u001b[0m\u001b[1;33m)\u001b[0m\u001b[1;33m\u001b[0m\u001b[1;33m\u001b[0m\u001b[0m\n\u001b[0;32m      5\u001b[0m \u001b[0mdata\u001b[0m \u001b[1;33m=\u001b[0m \u001b[0mdata\u001b[0m\u001b[1;33m[\u001b[0m\u001b[1;33m[\u001b[0m\u001b[1;34m'Open'\u001b[0m\u001b[1;33m,\u001b[0m\u001b[1;34m'High'\u001b[0m\u001b[1;33m,\u001b[0m\u001b[1;34m'Low'\u001b[0m\u001b[1;33m,\u001b[0m\u001b[1;34m'Close'\u001b[0m\u001b[1;33m,\u001b[0m\u001b[1;34m'Volume'\u001b[0m\u001b[1;33m]\u001b[0m\u001b[1;33m]\u001b[0m\u001b[1;33m.\u001b[0m\u001b[0mcopy\u001b[0m\u001b[1;33m(\u001b[0m\u001b[1;33m)\u001b[0m\u001b[1;33m\u001b[0m\u001b[1;33m\u001b[0m\u001b[0m\n",
      "\u001b[1;31mNameError\u001b[0m: name 'client' is not defined"
     ]
    }
   ],
   "source": [
    "\n",
    "klines = client.get_historical_klines('SUSHIUSDT', Client.KLINE_INTERVAL_15MINUTE, \"1 day ago UTC\")\n",
    "\n",
    "data = pd.DataFrame(klines, columns=config.FIELD_HISTORICAL)\n",
    "bb.set_date(data)\n",
    "data = data[['Open','High','Low','Close','Volume']].copy()\n",
    "go = data.head()\n",
    "go"
   ]
  },
  {
   "cell_type": "code",
   "execution_count": null,
   "metadata": {},
   "outputs": [],
   "source": [
    "for date, row in go.T.iteritems():\n",
    "    \n",
    "    print(type(date))\n"
   ]
  },
  {
   "cell_type": "code",
   "execution_count": 49,
   "metadata": {},
   "outputs": [],
   "source": [
    "def isSup(df,i):\n",
    "    support = df['Low'][i] < df['Low'][i-1]  and df['Low'][i] < df['High'][i+1] \n",
    "    return support\n",
    "def isSupR(df,i):\n",
    "    support = df['RSI'][i] < df['RSI'][i-1]  and df['RSI'][i] < df['RSI'][i+1] \n",
    "    return support\n",
    "def isResR(df,i):\n",
    "    res = df['RSI'][i] > df['RSI'][i-1]  and df['RSI'][i] > df['RSI'][i+1] \n",
    "    return res"
   ]
  },
  {
   "cell_type": "code",
   "execution_count": 51,
   "metadata": {},
   "outputs": [],
   "source": [
    "levels = []\n",
    "for i in range(1,data.shape[0]-1):\n",
    "    if isSup(data,i):\n",
    "        levels.append((i,data.iloc[i].name))"
   ]
  },
  {
   "cell_type": "code",
   "execution_count": 52,
   "metadata": {},
   "outputs": [
    {
     "data": {
      "text/plain": [
       "[(1, Timestamp('2021-04-16 08:45:00')),\n",
       " (2, Timestamp('2021-04-16 09:00:00')),\n",
       " (3, Timestamp('2021-04-16 09:15:00')),\n",
       " (4, Timestamp('2021-04-16 09:30:00')),\n",
       " (5, Timestamp('2021-04-16 09:45:00')),\n",
       " (8, Timestamp('2021-04-16 10:30:00')),\n",
       " (9, Timestamp('2021-04-16 10:45:00')),\n",
       " (10, Timestamp('2021-04-16 11:00:00')),\n",
       " (11, Timestamp('2021-04-16 11:15:00')),\n",
       " (15, Timestamp('2021-04-16 12:15:00')),\n",
       " (17, Timestamp('2021-04-16 12:45:00')),\n",
       " (18, Timestamp('2021-04-16 13:00:00')),\n",
       " (21, Timestamp('2021-04-16 13:45:00')),\n",
       " (26, Timestamp('2021-04-16 15:00:00')),\n",
       " (28, Timestamp('2021-04-16 15:30:00')),\n",
       " (30, Timestamp('2021-04-16 16:00:00')),\n",
       " (31, Timestamp('2021-04-16 16:15:00')),\n",
       " (32, Timestamp('2021-04-16 16:30:00')),\n",
       " (34, Timestamp('2021-04-16 17:00:00')),\n",
       " (37, Timestamp('2021-04-16 17:45:00')),\n",
       " (38, Timestamp('2021-04-16 18:00:00')),\n",
       " (39, Timestamp('2021-04-16 18:15:00')),\n",
       " (40, Timestamp('2021-04-16 18:30:00')),\n",
       " (43, Timestamp('2021-04-16 19:15:00')),\n",
       " (51, Timestamp('2021-04-16 21:15:00')),\n",
       " (54, Timestamp('2021-04-16 22:00:00')),\n",
       " (55, Timestamp('2021-04-16 22:15:00')),\n",
       " (57, Timestamp('2021-04-16 22:45:00')),\n",
       " (60, Timestamp('2021-04-16 23:30:00')),\n",
       " (64, Timestamp('2021-04-17 00:30:00')),\n",
       " (70, Timestamp('2021-04-17 02:00:00')),\n",
       " (71, Timestamp('2021-04-17 02:15:00')),\n",
       " (72, Timestamp('2021-04-17 02:30:00')),\n",
       " (74, Timestamp('2021-04-17 03:00:00')),\n",
       " (75, Timestamp('2021-04-17 03:15:00')),\n",
       " (76, Timestamp('2021-04-17 03:30:00')),\n",
       " (79, Timestamp('2021-04-17 04:15:00')),\n",
       " (80, Timestamp('2021-04-17 04:30:00')),\n",
       " (83, Timestamp('2021-04-17 05:15:00')),\n",
       " (86, Timestamp('2021-04-17 06:00:00')),\n",
       " (87, Timestamp('2021-04-17 06:15:00')),\n",
       " (89, Timestamp('2021-04-17 06:45:00')),\n",
       " (90, Timestamp('2021-04-17 07:00:00')),\n",
       " (91, Timestamp('2021-04-17 07:15:00'))]"
      ]
     },
     "execution_count": 52,
     "metadata": {},
     "output_type": "execute_result"
    }
   ],
   "source": [
    "levels\n"
   ]
  },
  {
   "cell_type": "code",
   "execution_count": 53,
   "metadata": {},
   "outputs": [],
   "source": [
    "rsi = RSI(data['Close'])\n"
   ]
  },
  {
   "cell_type": "code",
   "execution_count": 54,
   "metadata": {},
   "outputs": [],
   "source": [
    "data['RSI'] = rsi"
   ]
  },
  {
   "cell_type": "code",
   "execution_count": 55,
   "metadata": {},
   "outputs": [],
   "source": [
    "data = data.dropna()"
   ]
  },
  {
   "cell_type": "code",
   "execution_count": 56,
   "metadata": {},
   "outputs": [
    {
     "data": {
      "text/html": [
       "<div>\n",
       "<style scoped>\n",
       "    .dataframe tbody tr th:only-of-type {\n",
       "        vertical-align: middle;\n",
       "    }\n",
       "\n",
       "    .dataframe tbody tr th {\n",
       "        vertical-align: top;\n",
       "    }\n",
       "\n",
       "    .dataframe thead th {\n",
       "        text-align: right;\n",
       "    }\n",
       "</style>\n",
       "<table border=\"1\" class=\"dataframe\">\n",
       "  <thead>\n",
       "    <tr style=\"text-align: right;\">\n",
       "      <th></th>\n",
       "      <th>Open</th>\n",
       "      <th>High</th>\n",
       "      <th>Low</th>\n",
       "      <th>Close</th>\n",
       "      <th>Volume</th>\n",
       "      <th>RSI</th>\n",
       "    </tr>\n",
       "  </thead>\n",
       "  <tbody>\n",
       "    <tr>\n",
       "      <th>2021-04-16 12:00:00</th>\n",
       "      <td>16.34900000</td>\n",
       "      <td>16.35100000</td>\n",
       "      <td>16.21500000</td>\n",
       "      <td>16.27700000</td>\n",
       "      <td>55898.78500000</td>\n",
       "      <td>30.923451</td>\n",
       "    </tr>\n",
       "    <tr>\n",
       "      <th>2021-04-16 12:15:00</th>\n",
       "      <td>16.27400000</td>\n",
       "      <td>16.36000000</td>\n",
       "      <td>16.12100000</td>\n",
       "      <td>16.34200000</td>\n",
       "      <td>23702.98900000</td>\n",
       "      <td>33.741259</td>\n",
       "    </tr>\n",
       "    <tr>\n",
       "      <th>2021-04-16 12:30:00</th>\n",
       "      <td>16.34900000</td>\n",
       "      <td>16.39400000</td>\n",
       "      <td>16.34100000</td>\n",
       "      <td>16.37300000</td>\n",
       "      <td>27169.08900000</td>\n",
       "      <td>35.100986</td>\n",
       "    </tr>\n",
       "    <tr>\n",
       "      <th>2021-04-16 12:45:00</th>\n",
       "      <td>16.37200000</td>\n",
       "      <td>16.37900000</td>\n",
       "      <td>16.23000000</td>\n",
       "      <td>16.23200000</td>\n",
       "      <td>23548.00400000</td>\n",
       "      <td>31.894921</td>\n",
       "    </tr>\n",
       "    <tr>\n",
       "      <th>2021-04-16 13:00:00</th>\n",
       "      <td>16.23200000</td>\n",
       "      <td>16.34100000</td>\n",
       "      <td>16.12200000</td>\n",
       "      <td>16.31400000</td>\n",
       "      <td>42601.89900000</td>\n",
       "      <td>35.580051</td>\n",
       "    </tr>\n",
       "  </tbody>\n",
       "</table>\n",
       "</div>"
      ],
      "text/plain": [
       "                            Open         High          Low        Close  \\\n",
       "2021-04-16 12:00:00  16.34900000  16.35100000  16.21500000  16.27700000   \n",
       "2021-04-16 12:15:00  16.27400000  16.36000000  16.12100000  16.34200000   \n",
       "2021-04-16 12:30:00  16.34900000  16.39400000  16.34100000  16.37300000   \n",
       "2021-04-16 12:45:00  16.37200000  16.37900000  16.23000000  16.23200000   \n",
       "2021-04-16 13:00:00  16.23200000  16.34100000  16.12200000  16.31400000   \n",
       "\n",
       "                             Volume        RSI  \n",
       "2021-04-16 12:00:00  55898.78500000  30.923451  \n",
       "2021-04-16 12:15:00  23702.98900000  33.741259  \n",
       "2021-04-16 12:30:00  27169.08900000  35.100986  \n",
       "2021-04-16 12:45:00  23548.00400000  31.894921  \n",
       "2021-04-16 13:00:00  42601.89900000  35.580051  "
      ]
     },
     "execution_count": 56,
     "metadata": {},
     "output_type": "execute_result"
    }
   ],
   "source": [
    "data.head()"
   ]
  },
  {
   "cell_type": "code",
   "execution_count": 57,
   "metadata": {},
   "outputs": [],
   "source": [
    "levels = []\n",
    "for i in range(2,data.shape[0]-2):\n",
    "    if isSup(data,i):\n",
    "        levels.append((data.iloc[i].name))"
   ]
  },
  {
   "cell_type": "code",
   "execution_count": 58,
   "metadata": {},
   "outputs": [],
   "source": [
    "rsis = []\n",
    "for i in range(1,data.shape[0]-1):\n",
    "    if isResR(data,i):\n",
    "        rsis.append((data.iloc[i].name))"
   ]
  },
  {
   "cell_type": "code",
   "execution_count": 44,
   "metadata": {},
   "outputs": [],
   "source": [
    "if levels[0] in rsis:\n",
    "    print('la la la')"
   ]
  },
  {
   "cell_type": "code",
   "execution_count": 59,
   "metadata": {},
   "outputs": [
    {
     "data": {
      "text/plain": [
       "[Timestamp('2021-04-16 12:30:00'),\n",
       " Timestamp('2021-04-16 13:00:00'),\n",
       " Timestamp('2021-04-16 14:30:00'),\n",
       " Timestamp('2021-04-16 16:00:00'),\n",
       " Timestamp('2021-04-16 16:45:00'),\n",
       " Timestamp('2021-04-16 17:30:00'),\n",
       " Timestamp('2021-04-16 19:00:00'),\n",
       " Timestamp('2021-04-16 20:15:00'),\n",
       " Timestamp('2021-04-16 20:45:00'),\n",
       " Timestamp('2021-04-16 21:30:00'),\n",
       " Timestamp('2021-04-16 23:00:00'),\n",
       " Timestamp('2021-04-17 00:00:00'),\n",
       " Timestamp('2021-04-17 01:00:00'),\n",
       " Timestamp('2021-04-17 01:30:00'),\n",
       " Timestamp('2021-04-17 02:00:00'),\n",
       " Timestamp('2021-04-17 02:45:00'),\n",
       " Timestamp('2021-04-17 03:45:00'),\n",
       " Timestamp('2021-04-17 04:45:00'),\n",
       " Timestamp('2021-04-17 05:45:00'),\n",
       " Timestamp('2021-04-17 06:15:00'),\n",
       " Timestamp('2021-04-17 07:30:00')]"
      ]
     },
     "execution_count": 59,
     "metadata": {},
     "output_type": "execute_result"
    }
   ],
   "source": [
    "rsis"
   ]
  },
  {
   "cell_type": "code",
   "execution_count": 32,
   "metadata": {},
   "outputs": [],
   "source": [
    "result = set(rsis).intersection(levels)"
   ]
  },
  {
   "cell_type": "code",
   "execution_count": 33,
   "metadata": {},
   "outputs": [
    {
     "data": {
      "text/plain": [
       "{Timestamp('2021-04-16 12:45:00'),\n",
       " Timestamp('2021-04-16 13:45:00'),\n",
       " Timestamp('2021-04-16 16:15:00'),\n",
       " Timestamp('2021-04-16 17:00:00'),\n",
       " Timestamp('2021-04-16 18:15:00'),\n",
       " Timestamp('2021-04-16 19:15:00'),\n",
       " Timestamp('2021-04-16 21:15:00'),\n",
       " Timestamp('2021-04-16 22:45:00'),\n",
       " Timestamp('2021-04-17 00:30:00'),\n",
       " Timestamp('2021-04-17 02:15:00'),\n",
       " Timestamp('2021-04-17 03:30:00'),\n",
       " Timestamp('2021-04-17 04:30:00'),\n",
       " Timestamp('2021-04-17 06:45:00')}"
      ]
     },
     "execution_count": 33,
     "metadata": {},
     "output_type": "execute_result"
    }
   ],
   "source": [
    "result"
   ]
  },
  {
   "cell_type": "code",
   "execution_count": 138,
   "metadata": {},
   "outputs": [
    {
     "data": {
      "text/html": [
       "<div>\n",
       "<style scoped>\n",
       "    .dataframe tbody tr th:only-of-type {\n",
       "        vertical-align: middle;\n",
       "    }\n",
       "\n",
       "    .dataframe tbody tr th {\n",
       "        vertical-align: top;\n",
       "    }\n",
       "\n",
       "    .dataframe thead th {\n",
       "        text-align: right;\n",
       "    }\n",
       "</style>\n",
       "<table border=\"1\" class=\"dataframe\">\n",
       "  <thead>\n",
       "    <tr style=\"text-align: right;\">\n",
       "      <th></th>\n",
       "      <th>Open</th>\n",
       "      <th>High</th>\n",
       "      <th>Low</th>\n",
       "      <th>Close</th>\n",
       "      <th>Volume</th>\n",
       "      <th>RSI</th>\n",
       "    </tr>\n",
       "  </thead>\n",
       "  <tbody>\n",
       "    <tr>\n",
       "      <th>2021-04-13 17:15:00</th>\n",
       "      <td>15.80700000</td>\n",
       "      <td>15.94300000</td>\n",
       "      <td>15.80700000</td>\n",
       "      <td>15.88600000</td>\n",
       "      <td>63271.26700000</td>\n",
       "      <td>54.619970</td>\n",
       "    </tr>\n",
       "    <tr>\n",
       "      <th>2021-04-13 17:30:00</th>\n",
       "      <td>15.90000000</td>\n",
       "      <td>15.91800000</td>\n",
       "      <td>15.77800000</td>\n",
       "      <td>15.88700000</td>\n",
       "      <td>87164.77400000</td>\n",
       "      <td>54.656357</td>\n",
       "    </tr>\n",
       "    <tr>\n",
       "      <th>2021-04-13 17:45:00</th>\n",
       "      <td>15.88700000</td>\n",
       "      <td>15.89600000</td>\n",
       "      <td>15.75900000</td>\n",
       "      <td>15.82300000</td>\n",
       "      <td>35573.97400000</td>\n",
       "      <td>51.793975</td>\n",
       "    </tr>\n",
       "    <tr>\n",
       "      <th>2021-04-13 18:00:00</th>\n",
       "      <td>15.81400000</td>\n",
       "      <td>15.88100000</td>\n",
       "      <td>15.80300000</td>\n",
       "      <td>15.87700000</td>\n",
       "      <td>29404.88800000</td>\n",
       "      <td>53.983736</td>\n",
       "    </tr>\n",
       "    <tr>\n",
       "      <th>2021-04-13 18:15:00</th>\n",
       "      <td>15.87600000</td>\n",
       "      <td>15.90500000</td>\n",
       "      <td>15.81800000</td>\n",
       "      <td>15.86300000</td>\n",
       "      <td>34008.09500000</td>\n",
       "      <td>53.307647</td>\n",
       "    </tr>\n",
       "    <tr>\n",
       "      <th>...</th>\n",
       "      <td>...</td>\n",
       "      <td>...</td>\n",
       "      <td>...</td>\n",
       "      <td>...</td>\n",
       "      <td>...</td>\n",
       "      <td>...</td>\n",
       "    </tr>\n",
       "    <tr>\n",
       "      <th>2021-04-14 12:30:00</th>\n",
       "      <td>16.62200000</td>\n",
       "      <td>16.62700000</td>\n",
       "      <td>16.42700000</td>\n",
       "      <td>16.48800000</td>\n",
       "      <td>99203.88800000</td>\n",
       "      <td>45.413594</td>\n",
       "    </tr>\n",
       "    <tr>\n",
       "      <th>2021-04-14 12:45:00</th>\n",
       "      <td>16.49100000</td>\n",
       "      <td>16.51100000</td>\n",
       "      <td>16.27000000</td>\n",
       "      <td>16.28300000</td>\n",
       "      <td>63077.43700000</td>\n",
       "      <td>39.821892</td>\n",
       "    </tr>\n",
       "    <tr>\n",
       "      <th>2021-04-14 13:00:00</th>\n",
       "      <td>16.28400000</td>\n",
       "      <td>16.51600000</td>\n",
       "      <td>16.25500000</td>\n",
       "      <td>16.37700000</td>\n",
       "      <td>55765.83400000</td>\n",
       "      <td>43.271113</td>\n",
       "    </tr>\n",
       "    <tr>\n",
       "      <th>2021-04-14 13:15:00</th>\n",
       "      <td>16.38800000</td>\n",
       "      <td>16.52500000</td>\n",
       "      <td>16.37100000</td>\n",
       "      <td>16.38000000</td>\n",
       "      <td>45664.80300000</td>\n",
       "      <td>43.382648</td>\n",
       "    </tr>\n",
       "    <tr>\n",
       "      <th>2021-04-14 13:30:00</th>\n",
       "      <td>16.38200000</td>\n",
       "      <td>16.39500000</td>\n",
       "      <td>16.22300000</td>\n",
       "      <td>16.26400000</td>\n",
       "      <td>13414.34700000</td>\n",
       "      <td>40.099669</td>\n",
       "    </tr>\n",
       "  </tbody>\n",
       "</table>\n",
       "<p>82 rows × 6 columns</p>\n",
       "</div>"
      ],
      "text/plain": [
       "                            Open         High          Low        Close  \\\n",
       "2021-04-13 17:15:00  15.80700000  15.94300000  15.80700000  15.88600000   \n",
       "2021-04-13 17:30:00  15.90000000  15.91800000  15.77800000  15.88700000   \n",
       "2021-04-13 17:45:00  15.88700000  15.89600000  15.75900000  15.82300000   \n",
       "2021-04-13 18:00:00  15.81400000  15.88100000  15.80300000  15.87700000   \n",
       "2021-04-13 18:15:00  15.87600000  15.90500000  15.81800000  15.86300000   \n",
       "...                          ...          ...          ...          ...   \n",
       "2021-04-14 12:30:00  16.62200000  16.62700000  16.42700000  16.48800000   \n",
       "2021-04-14 12:45:00  16.49100000  16.51100000  16.27000000  16.28300000   \n",
       "2021-04-14 13:00:00  16.28400000  16.51600000  16.25500000  16.37700000   \n",
       "2021-04-14 13:15:00  16.38800000  16.52500000  16.37100000  16.38000000   \n",
       "2021-04-14 13:30:00  16.38200000  16.39500000  16.22300000  16.26400000   \n",
       "\n",
       "                             Volume        RSI  \n",
       "2021-04-13 17:15:00  63271.26700000  54.619970  \n",
       "2021-04-13 17:30:00  87164.77400000  54.656357  \n",
       "2021-04-13 17:45:00  35573.97400000  51.793975  \n",
       "2021-04-13 18:00:00  29404.88800000  53.983736  \n",
       "2021-04-13 18:15:00  34008.09500000  53.307647  \n",
       "...                             ...        ...  \n",
       "2021-04-14 12:30:00  99203.88800000  45.413594  \n",
       "2021-04-14 12:45:00  63077.43700000  39.821892  \n",
       "2021-04-14 13:00:00  55765.83400000  43.271113  \n",
       "2021-04-14 13:15:00  45664.80300000  43.382648  \n",
       "2021-04-14 13:30:00  13414.34700000  40.099669  \n",
       "\n",
       "[82 rows x 6 columns]"
      ]
     },
     "execution_count": 138,
     "metadata": {},
     "output_type": "execute_result"
    }
   ],
   "source": [
    "data"
   ]
  }
 ],
 "metadata": {
  "kernelspec": {
   "display_name": "Python 3",
   "language": "python",
   "name": "python3"
  },
  "language_info": {
   "codemirror_mode": {
    "name": "ipython",
    "version": 3
   },
   "file_extension": ".py",
   "mimetype": "text/x-python",
   "name": "python",
   "nbconvert_exporter": "python",
   "pygments_lexer": "ipython3",
   "version": "3.8.5"
  }
 },
 "nbformat": 4,
 "nbformat_minor": 4
}
