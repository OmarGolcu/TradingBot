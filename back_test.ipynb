{
 "cells": [
  {
   "cell_type": "code",
   "execution_count": null,
   "metadata": {},
   "outputs": [],
   "source": [
    "import config\n",
    "import json, csv, pprint, time, xlsxwriter\n",
    "import numpy as np\n",
    "import pandas as pd\n",
    "\n",
    "from datetime import datetime\n",
    "from binance.client import Client\n",
    "from talib import RSI, PLUS_DI, DX, CCI, ADX, MINUS_DI,ATR ,SAR\n",
    "from binance import BinanceSocketManager\n",
    "from binance.enums import *\n",
    "import bb\n",
    "client = Client(config.API_KEY, config.API_SECRET)\n",
    "import talib\n",
    "import os\n",
    "import math\n",
    "import mplfinance\n",
    "import matplotlib as mpf"
   ]
  },
  {
   "cell_type": "code",
   "execution_count": null,
   "metadata": {},
   "outputs": [],
   "source": [
    "tradesm = bb.candlestick_backtest_maxprofit(SYMBOL=config.MATIC,START_DATE='1 week ago UTC',CANDLE_TIMEZONE='3m',RSI_TIMEZONE='15m')"
   ]
  },
  {
   "cell_type": "code",
   "execution_count": null,
   "metadata": {},
   "outputs": [],
   "source": [
    "tradesn = bb.candlestick_backtest(SYMBOL=config.MATIC,START_DATE='1 week ago UTC',CANDLE_TIMEZONE='3m',RSI_TIMEZONE='15m')"
   ]
  },
  {
   "cell_type": "code",
   "execution_count": null,
   "metadata": {},
   "outputs": [],
   "source": [
    "tradesm.head()\n",
    "bb.set_opentime(tradesm)\n",
    "bb.set_endtime(tradesm)"
   ]
  },
  {
   "cell_type": "code",
   "execution_count": null,
   "metadata": {},
   "outputs": [],
   "source": [
    "dates = tradesm[['Open Time','End Time','TP','PNL','PNLQ']].copy()"
   ]
  },
  {
   "cell_type": "code",
   "execution_count": null,
   "metadata": {},
   "outputs": [],
   "source": [
    "\n",
    "onem = client.get_historical_klines(\"XTZUSDT\", Client.KLINE_INTERVAL_1MINUTE, \"1 week ago UTC\")\n",
    "ohlc_onem = bb.get_ohlc_his(onem)\n",
    "\n",
    "fivem = client.get_historical_klines(\"XTZUSDT\", Client.KLINE_INTERVAL_5MINUTE, \"1 week ago UTC\")\n",
    "ohlc_fivem = bb.get_ohlc_his(fivem)\n",
    "\n",
    "threem = client.get_historical_klines(\"XTZUSDT\", Client.KLINE_INTERVAL_3MINUTE, \"1 week ago UTC\")\n",
    "ohlc_threem = bb.get_ohlc_his(threem)\n",
    "\n",
    "fifm = client.get_historical_klines(\"XTZUSDT\",Client.KLINE_INTERVAL_15MINUTE, \"1 week ago UTC\")\n",
    "ohlc_fifm = bb.get_ohlc_his(fifm)\n",
    "\n",
    "\n"
   ]
  },
  {
   "cell_type": "code",
   "execution_count": null,
   "metadata": {},
   "outputs": [],
   "source": [
    "d_p = dates.groupby('PNL')\n",
    "d_p.get_group('Profit').to_csv('max_profit.csv')"
   ]
  },
  {
   "cell_type": "code",
   "execution_count": null,
   "metadata": {},
   "outputs": [],
   "source": [
    "trades['PNLQ'].sum()\n",
    "pnlm = trades.groupby('PNL')\n",
    "len(trades)\n"
   ]
  },
  {
   "cell_type": "code",
   "execution_count": null,
   "metadata": {},
   "outputs": [],
   "source": [
    "tradesn['PNLQ'].sum()\n",
    "pnl=tradesn.groupby('PNL')\n",
    "len(tradesn)"
   ]
  },
  {
   "cell_type": "code",
   "execution_count": null,
   "metadata": {},
   "outputs": [],
   "source": [
    "open_onem = ohlc_onem[0]\n",
    "high_onem = ohlc_onem[1]\n",
    "low_onem = ohlc_onem[2]\n",
    "close_onem = ohlc_onem[3]\n",
    "#if open[i] == close[i] and close[i]> low[i]:\n",
    "psar_onem = SAR(high_onem,low_onem)\n",
    "open_threem = ohlc_threem[0]\n",
    "high_threem = ohlc_threem[1]\n",
    "low_threem = ohlc_threem[2]\n",
    "close_threem = ohlc_threem[3]\n",
    "#if open[i] == close[i] and close[i]> low[i]:\n",
    "len(high_threem)\n",
    "\n",
    "\n"
   ]
  },
  {
   "cell_type": "code",
   "execution_count": null,
   "metadata": {},
   "outputs": [],
   "source": [
    "def get_onem_buy_signal(high,close,psar):\n",
    "    result = []\n",
    "    for i in range(1,len(open)-1):\n",
    "    \n",
    "        if open[i] == high[i] and close[i]> low[i] and psar[i] > close[i]:\n",
    "        \n",
    "            result.append(i)\n",
    "    return result\n",
    "        \n",
    "        "
   ]
  },
  {
   "cell_type": "code",
   "execution_count": null,
   "metadata": {},
   "outputs": [],
   "source": [
    "df_fifm = pd.DataFrame(fifm, columns=config.FIELD_HISTORICAL)"
   ]
  },
  {
   "cell_type": "code",
   "execution_count": null,
   "metadata": {},
   "outputs": [],
   "source": [
    "df_onem = pd.DataFrame(onem, columns=config.FIELD_HISTORICAL)"
   ]
  },
  {
   "cell_type": "code",
   "execution_count": null,
   "metadata": {},
   "outputs": [],
   "source": [
    "df_threem = pd.DataFrame(threem, columns=config.FIELD_HISTORICAL)\n",
    "df_fivem = pd.DataFrame(fivem, columns=config.FIELD_HISTORICAL)\n",
    "bb.set_date(df_onem)\n",
    "bb.set_date(df_fifm)\n",
    "bb.set_date(df_threem)\n",
    "bb.set_date(df_fivem)\n",
    "'''df_onem.to_csv('oneminute.csv')\n",
    "df_threem.to_csv('threeminute.csv')\n",
    "df_fivem.to_csv('fiveminute.csv')\n",
    "df_fifm.to_csv('fifminute.csv')'''"
   ]
  },
  {
   "cell_type": "code",
   "execution_count": null,
   "metadata": {},
   "outputs": [],
   "source": [
    "df_onemf = df_onem.copy().iloc[:,:7]\n",
    "df_onemf.head()"
   ]
  },
  {
   "cell_type": "code",
   "execution_count": null,
   "metadata": {},
   "outputs": [],
   "source": [
    "len(fifm)"
   ]
  },
  {
   "cell_type": "code",
   "execution_count": null,
   "metadata": {},
   "outputs": [],
   "source": [
    "\n",
    "df_threemf['Psar'] = psar_threem\n",
    "df_threemf.dropna(inplace=True)\n",
    "df_threemf.head(-5)"
   ]
  },
  {
   "cell_type": "code",
   "execution_count": null,
   "metadata": {},
   "outputs": [],
   "source": [
    "df_fifmf = df_fifm.copy().iloc[:,:7]\n",
    "rsi = RSI(df_fifmf['Close'])\n",
    "df_fifmf['Rsi'] = rsi\n",
    "df_fifmf.dropna(inplace=True)\n",
    "df_fifmf.head(-5)"
   ]
  },
  {
   "cell_type": "code",
   "execution_count": null,
   "metadata": {},
   "outputs": [],
   "source": [
    "df_fivemf = df_fivem.copy().iloc[:,:7]\n",
    "rsif = RSI(df_fivem['Close'])\n",
    "df_fivemf['Rsi'] = rsi\n",
    "df_fivemf.dropna(inplace=True)"
   ]
  },
  {
   "cell_type": "code",
   "execution_count": null,
   "metadata": {},
   "outputs": [],
   "source": [
    "permisson = False\n",
    "res = []\n",
    "trades = pd.DataFrame()\n",
    "df_threem['Psar'] = df_threem['Psar'].astype(str)\n",
    "for index, row in df_fifmf.iterrows():\n",
    "    if not trades.empty:\n",
    "        trades_status = trades.groupby(['Status'])\n",
    "    #trades_status.get_group('Close')\n",
    "    if row['Rsi'] > 50 : \n",
    "        permisson  = True\n",
    "        time = row['Close Time']+1\n",
    "        search_df = df_onemf.loc[(df_onemf['Open Time' ] >= time ) & (df_onemf['Open Time'] <= time+280000)]\n",
    "        positions = search_df[(search_df['Open'] == search_df['High']) & (search_df['Close'] > search_df['Low'] ) & (search_df['Psar'] > search_df['Close'] )]\n",
    "        positions.insert(8,'Status', 'Open')\n",
    "        positions.insert(9,'Margin', 100)\n",
    "        positions.insert(10,'End Time', '')\n",
    "        positions['Close Price'] = np.nan\n",
    "        positions['Ratio'] = np.nan\n",
    "        positions.insert(13,'PNL', '')\n",
    "        positions['PNLQ'] = np.nan\n",
    "        positions\n",
    "        trades = trades.append(positions)\n",
    "        \n",
    "        \n",
    "        if not trades.empty:\n",
    "            trades_status = trades.groupby(['Status'])\n",
    "            try:\n",
    "                if not trades_status.get_group('Open').empty:\n",
    "                    for ind, ro in trades_status.get_group('Open').iterrows():\n",
    "                        match_df = search_df.loc[(search_df['Open Time'] > ro['Open Time'])]\n",
    "                        for i,r in match_df.iterrows():\n",
    "                            if ro['Psar'] <= r['High']:\n",
    "                                trades.at[ind,'End Time'] = r['Open Time']\n",
    "                                trades.at[ind,'Close Price'] = ro['Psar']\n",
    "                                trades.at[ind,'Ratio'] = float(ro['Psar'])/float(ro['Close'])\n",
    "                                trades.at[ind,'PNL'] = 'Profit'\n",
    "                                trades.at[ind,'PNLQ'] = ((float(ro['Psar'])/float(ro['Close']))*100) - 100\n",
    "                                trades.at[ind,'Status'] = 'Close'\n",
    "                                break\n",
    "                        '''\n",
    "                        ro['End Time'] = r['Open Time']\n",
    "                        ro['Close Price'] = ro['Psar']\n",
    "                        ro['Ratio'] = float(ro['Psar'])/float(ro['Close'])\n",
    "                        ro['PNL'] = 'Profit'\n",
    "                        ro['PNLQ'] = ((float(ro['Psar'])/float(ro['Close']))*100) - 100\n",
    "                        ro['Status'] = 'Close'\n",
    "                        '''\n",
    "            except:\n",
    "                print('All Position is closed')\n",
    "                        \n",
    "                       \n",
    "    \n",
    "    else:\n",
    "        permission = False\n",
    "        if not trades.empty:\n",
    "            trades_status = trades.groupby(['Status'])\n",
    "            try:\n",
    "                if not trades_status.get_group('Open').empty:\n",
    "                    for i, r in trades_status.get_group('Open').iterrows():\n",
    "\n",
    "                        trades.at[i,'End Time'] = row['Close Time']\n",
    "                        trades.at[i,'Close Price'] =  row['Close']\n",
    "                        trades.at[i,'Ratio'] = float(row['Close'])/float(r['Close'])\n",
    "                        trades.at[i,'PNL'] = 'Profit'\n",
    "                        trades.at[i,'PNLQ'] = ((float(row['Close'])/float(r['Close']))*100) - 100\n",
    "                        trades.at[i,'Status'] = 'Close'\n",
    "\n",
    "                        '''\n",
    "                        r['End Time'] = row['Close Time']\n",
    "                        r['Ratio'] = float(row['Close'])/float(r['Close'])\n",
    "                        r['Close Price'] = row['Close']\n",
    "                        r['Status'] = 'Close'\n",
    "                        r['PNLQ'] = ((float(row['Close'])/float(r['Close']))*100) - 100\n",
    "                        '''\n",
    "                        if row['Close'] > r['Close']:\n",
    "                             trades.at[i,'PNL'] = 'Profit'\n",
    "                        else:\n",
    "                            trades.at[i,'PNL'] = 'Loss'\n",
    "    \n",
    "    \n",
    "            except:\n",
    "                print('All Position is Closed')\n",
    "                        \n",
    "                    \n",
    "                    \n",
    "        "
   ]
  },
  {
   "cell_type": "code",
   "execution_count": null,
   "metadata": {},
   "outputs": [],
   "source": [
    "len(trades)"
   ]
  },
  {
   "cell_type": "code",
   "execution_count": null,
   "metadata": {},
   "outputs": [],
   "source": [
    "d = 1634076000000 \n",
    "search_df = df_onemf.loc[(df_onemf['Open Time' ] >= d ) & (df_onemf['Open Time'] <= d+840000)]"
   ]
  },
  {
   "cell_type": "code",
   "execution_count": null,
   "metadata": {},
   "outputs": [],
   "source": [
    "'''signals_psar = []\n",
    "for i in result:\n",
    "    signals_psar.append(round(float(psar[i]),3))'''"
   ]
  },
  {
   "cell_type": "code",
   "execution_count": null,
   "metadata": {
    "tags": []
   },
   "outputs": [],
   "source": [
    "type(df_onemf['Psar'].iloc[0])"
   ]
  },
  {
   "cell_type": "code",
   "execution_count": null,
   "metadata": {},
   "outputs": [],
   "source": [
    "\n",
    "df_onemf['Low'] = df_onemf['Low'].astype(float)"
   ]
  },
  {
   "cell_type": "code",
   "execution_count": null,
   "metadata": {},
   "outputs": [],
   "source": [
    "'''z = 0\n",
    "for index,psar in df_test.iloc[:].values:\n",
    "    i = int(index) + 1\n",
    "    \n",
    "    for ind,high in td.iloc[i:,:].values:\n",
    "        if float(high) >= float(psar):\n",
    "            z = z + 1\n",
    "            print(td['index'][index])\n",
    "            print(ind)\n",
    "            print(\"-----\")\n",
    "           \n",
    "            \n",
    "            \n",
    "            break'''\n",
    "    "
   ]
  },
  {
   "cell_type": "code",
   "execution_count": null,
   "metadata": {},
   "outputs": [],
   "source": [
    "status = trades.groupby('Status')\n",
    "closed_trades  = status.get_group('Close')\n"
   ]
  },
  {
   "cell_type": "code",
   "execution_count": null,
   "metadata": {},
   "outputs": [],
   "source": [
    "pnl_grp = closed_trades.groupby('PNL')\n"
   ]
  },
  {
   "cell_type": "code",
   "execution_count": null,
   "metadata": {},
   "outputs": [],
   "source": [
    "result = closed_trades['PNLQ'].sum()"
   ]
  },
  {
   "cell_type": "code",
   "execution_count": null,
   "metadata": {},
   "outputs": [],
   "source": [
    "result"
   ]
  },
  {
   "cell_type": "code",
   "execution_count": null,
   "metadata": {},
   "outputs": [],
   "source": [
    "len(closed_trades)"
   ]
  },
  {
   "cell_type": "code",
   "execution_count": null,
   "metadata": {},
   "outputs": [],
   "source": [
    "pnl_grp.get_group('Loss').to_csv('Loss_Matic_1month.csv')"
   ]
  },
  {
   "cell_type": "code",
   "execution_count": null,
   "metadata": {},
   "outputs": [],
   "source": [
    "pnl_grp.get_group('Profit').to_csv('Profit_Matic_1month.csv')"
   ]
  },
  {
   "cell_type": "code",
   "execution_count": null,
   "metadata": {},
   "outputs": [],
   "source": [
    "\n",
    "\n",
    "tradesf = closed_trades.copy()"
   ]
  },
  {
   "cell_type": "code",
   "execution_count": null,
   "metadata": {},
   "outputs": [],
   "source": [
    "date = tradesf['Open Time']\n",
    "final_date = []\n",
    "for time in date:\n",
    "    time = time/1000\n",
    "    readable = datetime.utcfromtimestamp(time)\n",
    "    final_date.append(readable) \n",
    "tradesf['Open Time'] = final_date\n",
    "    "
   ]
  },
  {
   "cell_type": "code",
   "execution_count": null,
   "metadata": {},
   "outputs": [],
   "source": [
    "times = tradesf['End Time']\n",
    "final_times = []\n",
    "for d in times:\n",
    "    d = d/1000\n",
    "    readable = datetime.utcfromtimestamp(d)\n",
    "    final_times.append(readable) \n",
    "tradesf['End Time'] = final_times"
   ]
  },
  {
   "cell_type": "code",
   "execution_count": null,
   "metadata": {},
   "outputs": [],
   "source": [
    "tradesf[['Open Time','End Time','Close','Close Price','Ratio']].to_csv('trades_matic_1da.csv')"
   ]
  },
  {
   "cell_type": "code",
   "execution_count": null,
   "metadata": {},
   "outputs": [],
   "source": [
    "trades[['Open Time','End Time','Close','Close Price','Ratio']].to_csv('trades_matic_.csv')"
   ]
  },
  {
   "cell_type": "code",
   "execution_count": null,
   "metadata": {},
   "outputs": [],
   "source": [
    "tradesf"
   ]
  },
  {
   "cell_type": "code",
   "execution_count": null,
   "metadata": {},
   "outputs": [],
   "source": [
    "df_oneplot = df_onemf.copy()\n",
    "df_fiveplot = df_fivem.copy()"
   ]
  },
  {
   "cell_type": "code",
   "execution_count": null,
   "metadata": {},
   "outputs": [],
   "source": [
    "df_oneplot['Volume'] = df_oneplot['Volume'].astype(float)\n",
    "df_oneplot['High'] = df_oneplot['High'].astype(float)\n",
    "df_oneplot['Low'] = df_oneplot['Low'].astype(float)\n",
    "df_oneplot['Open'] = df_oneplot['Open'].astype(float)\n",
    "df_oneplot['Close'] = df_oneplot['Close'].astype(float)\n",
    "df_fiveplot['Volume'] = df_fiveplot['Volume'].astype(float)\n",
    "df_fiveplot['High'] = df_fiveplot['High'].astype(float)\n",
    "df_fiveplot['Low'] = df_fiveplot['Low'].astype(float)\n",
    "df_fiveplot['Open'] = df_fiveplot['Open'].astype(float)\n",
    "df_fiveplot['Close'] = df_fiveplot['Close'].astype(float)"
   ]
  },
  {
   "cell_type": "code",
   "execution_count": null,
   "metadata": {},
   "outputs": [],
   "source": [
    "%matplotlib notebook\n"
   ]
  },
  {
   "cell_type": "code",
   "execution_count": null,
   "metadata": {},
   "outputs": [],
   "source": [
    "df_fiveplot.to_csv('five.csv')"
   ]
  },
  {
   "cell_type": "code",
   "execution_count": null,
   "metadata": {},
   "outputs": [],
   "source": [
    "mplfinance.plot(df_fiveplot,type='candle')"
   ]
  },
  {
   "cell_type": "code",
   "execution_count": null,
   "metadata": {},
   "outputs": [],
   "source": [
    "%matplotlib inline"
   ]
  },
  {
   "cell_type": "code",
   "execution_count": null,
   "metadata": {},
   "outputs": [],
   "source": [
    "mplfinance.plot(df_fiveplot,type='candle')"
   ]
  },
  {
   "cell_type": "code",
   "execution_count": null,
   "metadata": {},
   "outputs": [],
   "source": [
    "\n",
    "matplotlib.pyplot.switch_backend()"
   ]
  },
  {
   "cell_type": "code",
   "execution_count": null,
   "metadata": {},
   "outputs": [],
   "source": [
    "f = pd.read_csv('five.csv')"
   ]
  },
  {
   "cell_type": "code",
   "execution_count": null,
   "metadata": {},
   "outputs": [],
   "source": [
    "fig = mpf.figure(figsize=(20,10)) \n",
    "ax1 = fig.add_subplot(2,1,1) \n",
    "ax2 = fig.add_subplot(2,1,2)\n",
    "\n"
   ]
  },
  {
   "cell_type": "code",
   "execution_count": null,
   "metadata": {},
   "outputs": [],
   "source": [
    "permisson = False\n",
    "res = []\n",
    "trades = pd.DataFrame()\n",
    "df_threemf['Psar'] = df_threemf['Psar'].astype(str)\n",
    "for index, row in df_fifmf.iterrows():\n",
    "    if not trades.empty:\n",
    "        trades_status = trades.groupby(['Status'])\n",
    "    #trades_status.get_group('Close')\n",
    "    if row['Rsi'] > 50 : \n",
    "        permisson  = True\n",
    "        time = row['Close Time']+1\n",
    "        search_df = df_threemf.loc[(df_threemf['Open Time' ] >= time ) & (df_threemf['Open Time'] <= time+840000)]\n",
    "        positions = search_df[(search_df['Open'] == search_df['High']) & (search_df['Close'] > search_df['Low'] ) & (search_df['Psar'] > search_df['Close'] )]\n",
    "        positions.insert(8,'Status', 'Open')\n",
    "        positions.insert(9,'Margin', 100)\n",
    "        positions.insert(10,'End Time', '')\n",
    "        positions['Close Price'] = np.nan\n",
    "        positions['Ratio'] = np.nan\n",
    "        positions.insert(13,'PNL', '')\n",
    "        positions['PNLQ'] = np.nan\n",
    "        positions\n",
    "        trades = trades.append(positions)\n",
    "        \n",
    "        \n",
    "        if not trades.empty:\n",
    "            trades_status = trades.groupby(['Status'])\n",
    "            try:\n",
    "                if not trades_status.get_group('Open').empty:\n",
    "                    for ind, ro in trades_status.get_group('Open').iterrows():\n",
    "                        match_df = search_df.loc[(search_df['Open Time'] > ro['Open Time'])]\n",
    "                        for i,r in match_df.iterrows():\n",
    "                            if ro['Psar'] <= r['High']:\n",
    "                                trades.at[ind,'End Time'] = r['Open Time']\n",
    "                                trades.at[ind,'Close Price'] = ro['Psar']\n",
    "                                trades.at[ind,'Ratio'] = float(ro['Psar'])/float(ro['Close'])\n",
    "                                trades.at[ind,'PNL'] = 'Profit'\n",
    "                                trades.at[ind,'PNLQ'] = ((float(ro['Psar'])/float(ro['Close']))*100) - 100\n",
    "                                trades.at[ind,'Status'] = 'Close'\n",
    "                                break\n",
    "                        '''\n",
    "                        ro['End Time'] = r['Open Time']\n",
    "                        ro['Close Price'] = ro['Psar']\n",
    "                        ro['Ratio'] = float(ro['Psar'])/float(ro['Close'])\n",
    "                        ro['PNL'] = 'Profit'\n",
    "                        ro['PNLQ'] = ((float(ro['Psar'])/float(ro['Close']))*100) - 100\n",
    "                        ro['Status'] = 'Close'\n",
    "                        '''\n",
    "            except:\n",
    "                print('All Position is closed')\n",
    "                        \n",
    "                       \n",
    "    \n",
    "    else:\n",
    "        permission = False\n",
    "        if not trades.empty:\n",
    "            trades_status = trades.groupby(['Status'])\n",
    "            try:\n",
    "                if not trades_status.get_group('Open').empty:\n",
    "                    for i, r in trades_status.get_group('Open').iterrows():\n",
    "\n",
    "                        trades.at[i,'End Time'] = row['Close Time']\n",
    "                        trades.at[i,'Close Price'] =  row['Close']\n",
    "                        trades.at[i,'Ratio'] = float(row['Close'])/float(r['Close'])\n",
    "                        trades.at[i,'PNL'] = 'Profit'\n",
    "                        trades.at[i,'PNLQ'] = ((float(row['Close'])/float(r['Close']))*100) - 100\n",
    "                        trades.at[i,'Status'] = 'Close'\n",
    "\n",
    "                        '''\n",
    "                        r['End Time'] = row['Close Time']\n",
    "                        r['Ratio'] = float(row['Close'])/float(r['Close'])\n",
    "                        r['Close Price'] = row['Close']\n",
    "                        r['Status'] = 'Close'\n",
    "                        r['PNLQ'] = ((float(row['Close'])/float(r['Close']))*100) - 100\n",
    "                        '''\n",
    "                        if row['Close'] > r['Close']:\n",
    "                             trades.at[i,'PNL'] = 'Profit'\n",
    "                        else:\n",
    "                            trades.at[i,'PNL'] = 'Loss'\n",
    "    \n",
    "    \n",
    "            except:\n",
    "                print('All Position is Closed')\n",
    "                        \n",
    "                    \n",
    "                    \n",
    "                "
   ]
  },
  {
   "cell_type": "code",
   "execution_count": null,
   "metadata": {},
   "outputs": [],
   "source": [
    "def candlestick_backtest(SYMBOL='',CANDLE_TIMEZONE='',RSI_TIMEZONE='',START_DATE='',END_DATE='',):\n",
    "    interval = {\n",
    "        '1m' : Client.KLINE_INTERVAL_1MINUTE ,\n",
    "        '3m' : Client.KLINE_INTERVAL_3MINUTE ,\n",
    "        '5m' : Client.KLINE_INTERVAL_5MINUTE ,\n",
    "        '15m': Client.KLINE_INTERVAL_15MINUTE ,\n",
    "        '30m': Client.KLINE_INTERVAL_30MINUTE,\n",
    "        '1h': Client.KLINE_INTERVAL_1HOUR,\n",
    "        '4h': Client.KLINE_INTERVAL_4HOUR,\n",
    "        '1d': Client.KLINE_INTERVAL_1DAY,\n",
    "        '1w': Client.KLINE_INTERVAL_1WEEK,\n",
    "    }\n",
    "    SEARCH_RATE=840000\n",
    "    if RSI_TIMEZONE == '15m' and CANDLE_TIMEZONE =='1m':\n",
    "        SEARCH_RATE = 840000\n",
    "    if RSI_TIMEZONE == '15m' and CANDLE_TIMEZONE =='3m':\n",
    "        SEARCH_RATE = 840000\n",
    "    if RSI_TIMEZONE == '5m' and CANDLE_TIMEZONE =='1m':\n",
    "        SEARCH_RATE = 240000\n",
    "    if RSI_TIMEZONE == '5m' and CANDLE_TIMEZONE =='3m':\n",
    "        SEARCH_RATE = 240000\n",
    "    if END_DATE == '':\n",
    "        candle_data = client.get_historical_klines(SYMBOL, interval[CANDLE_TIMEZONE],START_DATE)\n",
    "        rsi_data = client.get_historical_klines(SYMBOL, interval[RSI_TIMEZONE],START_DATE)\n",
    "    else:\n",
    "        candle_data = client.get_historical_klines(SYMBOL, interval[CANDLE_TIMEZONE],START_DATE,END_DATE)\n",
    "        rsi_data = client.get_historical_klines(SYMBOL, interval[RSI_TIMEZONE],START_DATE,END_DATE)\n",
    "    \n",
    "    \n",
    "        \n",
    "    \n",
    "    df_candle = pd.DataFrame(candle_data, columns=config.FIELD_HISTORICAL)\n",
    "    df_rsi = pd.DataFrame(rsi_data, columns=config.FIELD_HISTORICAL)\n",
    "    bb.set_date(df_candle)\n",
    "    bb.set_date(df_rsi)\n",
    "    df_candle = df_candle.copy().iloc[:,:7]\n",
    "    df_rsi = df_rsi.copy().iloc[:,:7]\n",
    "    \n",
    "    psar_candle = SAR(df_candle['High'],df_candle['Low'])\n",
    "    rsi = RSI(df_rsi['Close'])\n",
    "    \n",
    "    \n",
    "    df_candle['PSAR'] = psar_candle\n",
    "    df_candle.dropna(inplace=True)\n",
    "    \n",
    "    df_rsi['RSI'] = rsi\n",
    "    df_rsi.dropna(inplace=True)\n",
    "    \n",
    "    permisson = False\n",
    "    res = []\n",
    "    trades = pd.DataFrame()\n",
    "    df_candle['PSAR'] = df_candle['PSAR'].astype(str)\n",
    "    for index, row in df_rsi.iterrows():\n",
    "        \n",
    "        if not trades.empty:\n",
    "            trades_status = trades.groupby(['Status'])\n",
    "        #trades_status.get_group('Close')\n",
    "        if row['RSI'] > 50 : \n",
    "            permisson  = True\n",
    "            time = row['Close Time']+1\n",
    "            search_df = df_candle.loc[(df_candle['Open Time' ] >= time ) & (df_candle['Open Time'] <= time+SEARCH_RATE)]\n",
    "            positions = search_df[(search_df['Open'] == search_df['High']) & (search_df['Close'] > search_df['Low'] ) & (search_df['PSAR'] > search_df['Close'] )]\n",
    "            positions.insert(8,'Status', 'Open')\n",
    "            positions.insert(9,'Margin', 100)\n",
    "            positions.insert(10,'End Time', '')\n",
    "            positions['Close Price'] = np.nan\n",
    "            positions['Ratio'] = np.nan\n",
    "            positions.insert(13,'PNL', '')\n",
    "            positions['PNLQ'] = np.nan\n",
    "            positions\n",
    "            trades = trades.append(positions)\n",
    "\n",
    "\n",
    "            if not trades.empty:\n",
    "                trades_status = trades.groupby(['Status'])\n",
    "                try:\n",
    "                    if not trades_status.get_group('Open').empty:\n",
    "                        for ind, ro in trades_status.get_group('Open').iterrows():\n",
    "                            match_df = search_df.loc[(search_df['Open Time'] > ro['Open Time'])]\n",
    "                            for i,r in match_df.iterrows():\n",
    "                                if ro['PSAR'] <= r['High']:\n",
    "                                    trades.at[ind,'End Time'] = r['Open Time']\n",
    "                                    trades.at[ind,'Close Price'] = ro['PSAR']\n",
    "                                    trades.at[ind,'Ratio'] = float(ro['PSAR'])/float(ro['Close'])\n",
    "                                    trades.at[ind,'PNL'] = 'Profit'\n",
    "                                    trades.at[ind,'PNLQ'] = ((float(ro['PSAR'])/float(ro['Close']))*100) - 100\n",
    "                                    trades.at[ind,'Status'] = 'Close'\n",
    "                                    break\n",
    "                            '''\n",
    "                            ro['End Time'] = r['Open Time']\n",
    "                            ro['Close Price'] = ro['Psar']\n",
    "                            ro['Ratio'] = float(ro['Psar'])/float(ro['Close'])\n",
    "                            ro['PNL'] = 'Profit'\n",
    "                            ro['PNLQ'] = ((float(ro['Psar'])/float(ro['Close']))*100) - 100\n",
    "                            ro['Status'] = 'Close'\n",
    "                            '''\n",
    "                except:\n",
    "                    print('All Position is closed')\n",
    "\n",
    "\n",
    "\n",
    "        else:\n",
    "            permission = False\n",
    "            if not trades.empty:\n",
    "                trades_status = trades.groupby(['Status'])\n",
    "                try:\n",
    "                    if not trades_status.get_group('Open').empty:\n",
    "                        for i, r in trades_status.get_group('Open').iterrows():\n",
    "\n",
    "                            trades.at[i,'End Time'] = row['Close Time']\n",
    "                            trades.at[i,'Close Price'] =  row['Close']\n",
    "                            trades.at[i,'Ratio'] = float(row['Close'])/float(r['Close'])\n",
    "                            trades.at[i,'PNL'] = 'Profit'\n",
    "                            trades.at[i,'PNLQ'] = ((float(row['Close'])/float(r['Close']))*100) - 100\n",
    "                            trades.at[i,'Status'] = 'Close'\n",
    "\n",
    "                            '''\n",
    "                            r['End Time'] = row['Close Time']\n",
    "                            r['Ratio'] = float(row['Close'])/float(r['Close'])\n",
    "                            r['Close Price'] = row['Close']\n",
    "                            r['Status'] = 'Close'\n",
    "                            r['PNLQ'] = ((float(row['Close'])/float(r['Close']))*100) - 100\n",
    "                            '''\n",
    "                            if row['Close'] > r['Close']:\n",
    "                                 trades.at[i,'PNL'] = 'Profit'\n",
    "                            else:\n",
    "                                trades.at[i,'PNL'] = 'Loss'\n",
    "\n",
    "\n",
    "                except:\n",
    "                    print('All Position is Closed')\n",
    "\n",
    "                    \n",
    "    \n",
    "    \n",
    "    df = trades.groupby('Status')\n",
    "    \n",
    "    return df.get_group('Close')\n",
    "\n",
    "    \n",
    "    "
   ]
  },
  {
   "cell_type": "code",
   "execution_count": null,
   "metadata": {},
   "outputs": [],
   "source": [
    "len(config.ARRAY)"
   ]
  },
  {
   "cell_type": "code",
   "execution_count": null,
   "metadata": {},
   "outputs": [],
   "source": [
    "sum = 0 ;\n",
    "for coin in config.ARRAY : \n",
    "    trades = bb.candlestick_backtest_maxprofit(SYMBOL=coin,START_DATE='1 week ago UTC',CANDLE_TIMEZONE='3m',RSI_TIMEZONE='15m')\n",
    "    sum = sum + float(trades['PNLQ'].sum())\n",
    "    \n",
    "    "
   ]
  },
  {
   "cell_type": "code",
   "execution_count": null,
   "metadata": {},
   "outputs": [],
   "source": [
    "sum"
   ]
  },
  {
   "cell_type": "code",
   "execution_count": null,
   "metadata": {},
   "outputs": [],
   "source": [
    "\n",
    "trades = bb.candlestick_backtest(SYMBOL=config.MATIC,START_DATE='1 week ago UTC',CANDLE_TIMEZONE='3m',RSI_TIMEZONE='15m')"
   ]
  },
  {
   "cell_type": "code",
   "execution_count": null,
   "metadata": {},
   "outputs": [],
   "source": [
    "trades.head()"
   ]
  },
  {
   "cell_type": "code",
   "execution_count": null,
   "metadata": {},
   "outputs": [],
   "source": [
    "trades['PNL']"
   ]
  },
  {
   "cell_type": "code",
   "execution_count": null,
   "metadata": {},
   "outputs": [],
   "source": [
    "trades.head()"
   ]
  }
 ],
 "metadata": {
  "kernelspec": {
   "display_name": "Python 3",
   "language": "python",
   "name": "python3"
  },
  "language_info": {
   "codemirror_mode": {
    "name": "ipython",
    "version": 3
   },
   "file_extension": ".py",
   "mimetype": "text/x-python",
   "name": "python",
   "nbconvert_exporter": "python",
   "pygments_lexer": "ipython3",
   "version": "3.8.8"
  }
 },
 "nbformat": 4,
 "nbformat_minor": 4
}
